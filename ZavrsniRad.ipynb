{
  "nbformat": 4,
  "nbformat_minor": 0,
  "metadata": {
    "colab": {
      "provenance": [],
      "gpuType": "T4",
      "authorship_tag": "ABX9TyMSw5rXH9nOmRrZvW0Q0rJ6",
      "include_colab_link": true
    },
    "kernelspec": {
      "name": "python3",
      "display_name": "Python 3"
    },
    "language_info": {
      "name": "python"
    },
    "accelerator": "GPU"
  },
  "cells": [
    {
      "cell_type": "markdown",
      "metadata": {
        "id": "view-in-github",
        "colab_type": "text"
      },
      "source": [
        "<a href=\"https://colab.research.google.com/github/selmakurtovic4/ZavrsniRad/blob/main/ZavrsniRad.ipynb\" target=\"_parent\"><img src=\"https://colab.research.google.com/assets/colab-badge.svg\" alt=\"Open In Colab\"/></a>"
      ]
    },
    {
      "cell_type": "markdown",
      "source": [
        "Izvorni github: https://github.com/sarthak15169/Deep-Music"
      ],
      "metadata": {
        "id": "OsVE3c_69MFC"
      }
    },
    {
      "cell_type": "code",
      "source": [
        "    notes=json.load(open('./Data/notes.json'))\n",
        "\n",
        "    print('Notes processed')\n",
        "    network_in, network_out= prepare_sequences(notes)\n",
        "    print(\"input\")\n"
      ],
      "metadata": {
        "id": "QLoKcPRaV2Qy"
      },
      "execution_count": null,
      "outputs": []
    },
    {
      "cell_type": "code",
      "source": [
        "  print(len(network_out[0]))"
      ],
      "metadata": {
        "colab": {
          "base_uri": "https://localhost:8080/"
        },
        "id": "ATsycy_4vItD",
        "outputId": "9ed83344-0f54-47b4-9e5d-2d49ed905ed5"
      },
      "execution_count": null,
      "outputs": [
        {
          "output_type": "stream",
          "name": "stdout",
          "text": [
            "315\n"
          ]
        }
      ]
    },
    {
      "cell_type": "code",
      "source": [
        "train_model()"
      ],
      "metadata": {
        "id": "uNbvF_OXGUwO",
        "colab": {
          "base_uri": "https://localhost:8080/",
          "height": 1000
        },
        "outputId": "bb73b667-2774-4f92-8a43-e626dd895eab"
      },
      "execution_count": 12,
      "outputs": [
        {
          "output_type": "stream",
          "name": "stdout",
          "text": [
            "Notes processed\n",
            "Input and Output processed\n",
            "Model created\n",
            "Training in progress\n",
            "Epoch 1/200\n",
            "1167/1167 [==============================] - 27s 15ms/step - loss: 1531723.5000\n",
            "Epoch 2/200\n",
            "1167/1167 [==============================] - 18s 16ms/step - loss: 9465588.0000\n",
            "Epoch 3/200\n",
            "1167/1167 [==============================] - 18s 16ms/step - loss: 22758932.0000\n",
            "Epoch 4/200\n",
            "1167/1167 [==============================] - 18s 15ms/step - loss: 39508820.0000\n",
            "Epoch 5/200\n",
            "1167/1167 [==============================] - 18s 15ms/step - loss: 56361012.0000\n",
            "Epoch 6/200\n",
            "1167/1167 [==============================] - 18s 15ms/step - loss: 72160256.0000\n",
            "Epoch 7/200\n",
            "1167/1167 [==============================] - 18s 15ms/step - loss: 88999144.0000\n",
            "Epoch 8/200\n",
            "1167/1167 [==============================] - 18s 15ms/step - loss: 107168472.0000\n",
            "Epoch 9/200\n",
            "1167/1167 [==============================] - 18s 15ms/step - loss: 126802360.0000\n",
            "Epoch 10/200\n",
            "1167/1167 [==============================] - 18s 15ms/step - loss: 148277520.0000\n",
            "Epoch 11/200\n",
            "1167/1167 [==============================] - 18s 15ms/step - loss: 171382832.0000\n",
            "Epoch 12/200\n",
            "1167/1167 [==============================] - 18s 15ms/step - loss: 196043616.0000\n",
            "Epoch 13/200\n",
            "1167/1167 [==============================] - 18s 15ms/step - loss: 222737168.0000\n",
            "Epoch 14/200\n",
            "1167/1167 [==============================] - 18s 15ms/step - loss: 251042768.0000\n",
            "Epoch 15/200\n",
            "1167/1167 [==============================] - 18s 15ms/step - loss: 280463360.0000\n",
            "Epoch 16/200\n",
            "1167/1167 [==============================] - 18s 15ms/step - loss: 311753664.0000\n",
            "Epoch 17/200\n",
            "1167/1167 [==============================] - 18s 15ms/step - loss: 344724416.0000\n",
            "Epoch 18/200\n",
            "1167/1167 [==============================] - 18s 15ms/step - loss: 379368416.0000\n",
            "Epoch 19/200\n",
            "1167/1167 [==============================] - 18s 15ms/step - loss: 415730688.0000\n",
            "Epoch 20/200\n",
            "1167/1167 [==============================] - 18s 15ms/step - loss: 453390592.0000\n",
            "Epoch 21/200\n",
            "1167/1167 [==============================] - 18s 15ms/step - loss: 492967392.0000\n",
            "Epoch 22/200\n",
            "1167/1167 [==============================] - 18s 15ms/step - loss: 534052352.0000\n",
            "Epoch 23/200\n",
            "1167/1167 [==============================] - 18s 15ms/step - loss: 575881792.0000\n",
            "Epoch 24/200\n",
            "1167/1167 [==============================] - 18s 15ms/step - loss: 620061952.0000\n",
            "Epoch 25/200\n",
            "1167/1167 [==============================] - 18s 15ms/step - loss: 664638144.0000\n",
            "Epoch 26/200\n",
            "1167/1167 [==============================] - 18s 15ms/step - loss: 711788928.0000\n",
            "Epoch 27/200\n",
            "1167/1167 [==============================] - 18s 15ms/step - loss: 760074176.0000\n",
            "Epoch 28/200\n",
            "1167/1167 [==============================] - 18s 15ms/step - loss: 810201152.0000\n",
            "Epoch 29/200\n",
            "1167/1167 [==============================] - 18s 15ms/step - loss: 861453504.0000\n",
            "Epoch 30/200\n",
            "1167/1167 [==============================] - 18s 15ms/step - loss: 915253504.0000\n",
            "Epoch 31/200\n",
            "1167/1167 [==============================] - 18s 15ms/step - loss: 970086656.0000\n",
            "Epoch 32/200\n",
            "1167/1167 [==============================] - 18s 15ms/step - loss: 1027575360.0000\n",
            "Epoch 33/200\n",
            "1167/1167 [==============================] - 18s 15ms/step - loss: 1084167040.0000\n",
            "Epoch 34/200\n",
            "1167/1167 [==============================] - 18s 15ms/step - loss: 1144043904.0000\n",
            "Epoch 35/200\n",
            "1167/1167 [==============================] - 18s 15ms/step - loss: 1205553280.0000\n",
            "Epoch 36/200\n",
            "1167/1167 [==============================] - 18s 15ms/step - loss: 1267615744.0000\n",
            "Epoch 37/200\n",
            "1167/1167 [==============================] - 18s 15ms/step - loss: 1332103296.0000\n",
            "Epoch 38/200\n",
            "1167/1167 [==============================] - 18s 15ms/step - loss: 1398192512.0000\n",
            "Epoch 39/200\n",
            "1167/1167 [==============================] - 18s 15ms/step - loss: 1463972736.0000\n",
            "Epoch 40/200\n",
            "1167/1167 [==============================] - 18s 15ms/step - loss: 1532985216.0000\n",
            "Epoch 41/200\n",
            "1167/1167 [==============================] - 18s 15ms/step - loss: 1601367552.0000\n",
            "Epoch 42/200\n",
            "1167/1167 [==============================] - 18s 15ms/step - loss: 1673581696.0000\n",
            "Epoch 43/200\n",
            "1167/1167 [==============================] - 18s 15ms/step - loss: 1745272576.0000\n",
            "Epoch 44/200\n",
            "1167/1167 [==============================] - 18s 15ms/step - loss: 1820343040.0000\n",
            "Epoch 45/200\n",
            "1167/1167 [==============================] - 18s 15ms/step - loss: 1896685184.0000\n",
            "Epoch 46/200\n",
            "1167/1167 [==============================] - 18s 15ms/step - loss: 1974767616.0000\n",
            "Epoch 47/200\n",
            "1167/1167 [==============================] - 18s 15ms/step - loss: 2053226112.0000\n",
            "Epoch 48/200\n",
            "1167/1167 [==============================] - 18s 15ms/step - loss: 2133910400.0000\n",
            "Epoch 49/200\n",
            "1167/1167 [==============================] - 18s 15ms/step - loss: 2215157248.0000\n",
            "Epoch 50/200\n",
            "1167/1167 [==============================] - 18s 15ms/step - loss: 2300862720.0000\n",
            "Epoch 51/200\n",
            "1167/1167 [==============================] - 18s 15ms/step - loss: 2384137984.0000\n",
            "Epoch 52/200\n",
            "1167/1167 [==============================] - 18s 15ms/step - loss: 2471976704.0000\n",
            "Epoch 53/200\n",
            "1167/1167 [==============================] - 18s 15ms/step - loss: 2560309504.0000\n",
            "Epoch 54/200\n",
            "1167/1167 [==============================] - 18s 15ms/step - loss: 2649840384.0000\n",
            "Epoch 55/200\n",
            "1167/1167 [==============================] - 18s 15ms/step - loss: 2740846592.0000\n",
            "Epoch 56/200\n",
            "1167/1167 [==============================] - 18s 15ms/step - loss: 2835646208.0000\n",
            "Epoch 57/200\n",
            "1167/1167 [==============================] - 18s 15ms/step - loss: 2928992000.0000\n",
            "Epoch 58/200\n",
            "1167/1167 [==============================] - 18s 15ms/step - loss: 3025956352.0000\n",
            "Epoch 59/200\n",
            "1167/1167 [==============================] - 18s 15ms/step - loss: 3124450816.0000\n",
            "Epoch 60/200\n",
            "1167/1167 [==============================] - 18s 15ms/step - loss: 3221637120.0000\n",
            "Epoch 61/200\n",
            "1167/1167 [==============================] - 18s 15ms/step - loss: 3323453952.0000\n",
            "Epoch 62/200\n",
            "1167/1167 [==============================] - 18s 15ms/step - loss: 3424822528.0000\n",
            "Epoch 63/200\n",
            "1167/1167 [==============================] - 18s 15ms/step - loss: 3529514752.0000\n",
            "Epoch 64/200\n",
            "1167/1167 [==============================] - 18s 15ms/step - loss: 3633388800.0000\n",
            "Epoch 65/200\n",
            "1167/1167 [==============================] - 18s 15ms/step - loss: 3741011968.0000\n",
            "Epoch 66/200\n",
            "1167/1167 [==============================] - 18s 15ms/step - loss: 3848772096.0000\n",
            "Epoch 67/200\n",
            "1167/1167 [==============================] - 18s 15ms/step - loss: 3957858048.0000\n",
            "Epoch 68/200\n",
            "1167/1167 [==============================] - 18s 15ms/step - loss: 4071055360.0000\n",
            "Epoch 69/200\n",
            "1167/1167 [==============================] - 18s 15ms/step - loss: 4183570432.0000\n",
            "Epoch 70/200\n",
            "1167/1167 [==============================] - 18s 15ms/step - loss: 4298871808.0000\n",
            "Epoch 71/200\n",
            "1167/1167 [==============================] - 18s 15ms/step - loss: 4412115968.0000\n",
            "Epoch 72/200\n",
            "1167/1167 [==============================] - 18s 15ms/step - loss: 4533411840.0000\n",
            "Epoch 73/200\n",
            "1167/1167 [==============================] - 18s 15ms/step - loss: 4650935808.0000\n",
            "Epoch 74/200\n",
            "1167/1167 [==============================] - 18s 15ms/step - loss: 4770543104.0000\n",
            "Epoch 75/200\n",
            "1167/1167 [==============================] - 18s 15ms/step - loss: 4893278208.0000\n",
            "Epoch 76/200\n",
            "1167/1167 [==============================] - 18s 15ms/step - loss: 5016886272.0000\n",
            "Epoch 77/200\n",
            "1167/1167 [==============================] - 18s 15ms/step - loss: 5141748224.0000\n",
            "Epoch 78/200\n",
            "1167/1167 [==============================] - 18s 15ms/step - loss: 5271095808.0000\n",
            "Epoch 79/200\n",
            "1167/1167 [==============================] - 18s 15ms/step - loss: 5397643776.0000\n",
            "Epoch 80/200\n",
            "1167/1167 [==============================] - 18s 15ms/step - loss: 5530355712.0000\n",
            "Epoch 81/200\n",
            "1167/1167 [==============================] - 18s 15ms/step - loss: 5656315904.0000\n",
            "Epoch 82/200\n",
            "1167/1167 [==============================] - 18s 15ms/step - loss: 5789448192.0000\n",
            "Epoch 83/200\n",
            "1167/1167 [==============================] - 18s 15ms/step - loss: 5924596224.0000\n",
            "Epoch 84/200\n",
            "1167/1167 [==============================] - 18s 15ms/step - loss: 6060367872.0000\n",
            "Epoch 85/200\n",
            "1167/1167 [==============================] - 18s 15ms/step - loss: 6195426816.0000\n",
            "Epoch 86/200\n",
            "1167/1167 [==============================] - 18s 15ms/step - loss: 6337276928.0000\n",
            "Epoch 87/200\n",
            "1167/1167 [==============================] - 18s 15ms/step - loss: 6481432576.0000\n",
            "Epoch 88/200\n",
            "1167/1167 [==============================] - 18s 15ms/step - loss: 6619457536.0000\n",
            "Epoch 89/200\n",
            "1167/1167 [==============================] - 18s 15ms/step - loss: 6765318656.0000\n",
            "Epoch 90/200\n",
            "1167/1167 [==============================] - 18s 15ms/step - loss: 6913908736.0000\n",
            "Epoch 91/200\n",
            "1167/1167 [==============================] - 18s 15ms/step - loss: 7056332288.0000\n",
            "Epoch 92/200\n",
            "1167/1167 [==============================] - 18s 15ms/step - loss: 7205963776.0000\n",
            "Epoch 93/200\n",
            "1167/1167 [==============================] - 18s 15ms/step - loss: 7359533056.0000\n",
            "Epoch 94/200\n",
            "1167/1167 [==============================] - 18s 15ms/step - loss: 7511200768.0000\n",
            "Epoch 95/200\n",
            "1167/1167 [==============================] - 18s 15ms/step - loss: 7662930432.0000\n",
            "Epoch 96/200\n",
            "1167/1167 [==============================] - 18s 15ms/step - loss: 7810384896.0000\n",
            "Epoch 97/200\n",
            "1167/1167 [==============================] - 18s 15ms/step - loss: 7963567616.0000\n",
            "Epoch 98/200\n",
            "1167/1167 [==============================] - 18s 15ms/step - loss: 8126960128.0000\n",
            "Epoch 99/200\n",
            "1167/1167 [==============================] - 18s 15ms/step - loss: 8287936512.0000\n",
            "Epoch 100/200\n",
            "1167/1167 [==============================] - 18s 15ms/step - loss: 8437181440.0000\n",
            "Epoch 101/200\n",
            "1167/1167 [==============================] - 18s 15ms/step - loss: 8606059520.0000\n",
            "Epoch 102/200\n",
            "1167/1167 [==============================] - 18s 15ms/step - loss: 8770887680.0000\n",
            "Epoch 103/200\n",
            "1167/1167 [==============================] - 18s 15ms/step - loss: 8933824512.0000\n",
            "Epoch 104/200\n",
            "1167/1167 [==============================] - 18s 15ms/step - loss: 9101926400.0000\n",
            "Epoch 105/200\n",
            "1167/1167 [==============================] - 18s 15ms/step - loss: 9266081792.0000\n",
            "Epoch 106/200\n",
            "1167/1167 [==============================] - 18s 15ms/step - loss: 9443799040.0000\n",
            "Epoch 107/200\n",
            "1167/1167 [==============================] - 18s 15ms/step - loss: 9604459520.0000\n",
            "Epoch 108/200\n",
            "1167/1167 [==============================] - 18s 15ms/step - loss: 9774998528.0000\n",
            "Epoch 109/200\n",
            "1167/1167 [==============================] - 18s 15ms/step - loss: 9950299136.0000\n",
            "Epoch 110/200\n",
            "1167/1167 [==============================] - 18s 15ms/step - loss: 10127225856.0000\n",
            "Epoch 111/200\n",
            "1167/1167 [==============================] - 18s 15ms/step - loss: 10307372032.0000\n",
            "Epoch 112/200\n",
            "1167/1167 [==============================] - 18s 15ms/step - loss: 10480944128.0000\n",
            "Epoch 113/200\n",
            "1167/1167 [==============================] - 18s 15ms/step - loss: 10661319680.0000\n",
            "Epoch 114/200\n",
            "1167/1167 [==============================] - 18s 15ms/step - loss: 10845157376.0000\n",
            "Epoch 115/200\n",
            "1167/1167 [==============================] - 18s 15ms/step - loss: 11020553216.0000\n",
            "Epoch 116/200\n",
            "1167/1167 [==============================] - 18s 15ms/step - loss: 11203753984.0000\n",
            "Epoch 117/200\n",
            "1167/1167 [==============================] - 18s 15ms/step - loss: 11393599488.0000\n",
            "Epoch 118/200\n",
            "1167/1167 [==============================] - 18s 15ms/step - loss: 11588317184.0000\n",
            "Epoch 119/200\n",
            "1167/1167 [==============================] - 18s 15ms/step - loss: 11779414016.0000\n",
            "Epoch 120/200\n",
            "1167/1167 [==============================] - 18s 15ms/step - loss: 11962559488.0000\n",
            "Epoch 121/200\n",
            "1167/1167 [==============================] - 18s 15ms/step - loss: 12156118016.0000\n",
            "Epoch 122/200\n",
            "1167/1167 [==============================] - 18s 15ms/step - loss: 12350423040.0000\n",
            "Epoch 123/200\n",
            "1167/1167 [==============================] - 18s 15ms/step - loss: 12545449984.0000\n",
            "Epoch 124/200\n",
            "1167/1167 [==============================] - 18s 15ms/step - loss: 12735704064.0000\n",
            "Epoch 125/200\n",
            "1167/1167 [==============================] - 18s 15ms/step - loss: 12940306432.0000\n",
            "Epoch 126/200\n",
            "1167/1167 [==============================] - 18s 15ms/step - loss: 13141238784.0000\n",
            "Epoch 127/200\n",
            "1167/1167 [==============================] - 18s 15ms/step - loss: 13340666880.0000\n",
            "Epoch 128/200\n",
            "1167/1167 [==============================] - 18s 15ms/step - loss: 13541473280.0000\n",
            "Epoch 129/200\n",
            "1167/1167 [==============================] - 18s 15ms/step - loss: 13754156032.0000\n",
            "Epoch 130/200\n",
            "1167/1167 [==============================] - 18s 15ms/step - loss: 13955893248.0000\n",
            "Epoch 131/200\n",
            "1167/1167 [==============================] - 18s 15ms/step - loss: 14164901888.0000\n",
            "Epoch 132/200\n",
            "1167/1167 [==============================] - 18s 15ms/step - loss: 14376130560.0000\n",
            "Epoch 133/200\n",
            "1167/1167 [==============================] - 18s 15ms/step - loss: 14585357312.0000\n",
            "Epoch 134/200\n",
            "1167/1167 [==============================] - 18s 15ms/step - loss: 14795943936.0000\n",
            "Epoch 135/200\n",
            "1167/1167 [==============================] - 18s 15ms/step - loss: 15014380544.0000\n",
            "Epoch 136/200\n",
            "1167/1167 [==============================] - 18s 15ms/step - loss: 15222794240.0000\n",
            "Epoch 137/200\n",
            "1167/1167 [==============================] - 18s 15ms/step - loss: 15450873856.0000\n",
            "Epoch 138/200\n",
            "1167/1167 [==============================] - 18s 15ms/step - loss: 15659287552.0000\n",
            "Epoch 139/200\n",
            "1167/1167 [==============================] - 18s 15ms/step - loss: 15881659392.0000\n",
            "Epoch 140/200\n",
            "1167/1167 [==============================] - 18s 15ms/step - loss: 16105325568.0000\n",
            "Epoch 141/200\n",
            "1167/1167 [==============================] - 18s 15ms/step - loss: 16327172096.0000\n",
            "Epoch 142/200\n",
            "1167/1167 [==============================] - 18s 15ms/step - loss: 16540969984.0000\n",
            "Epoch 143/200\n",
            "1167/1167 [==============================] - 18s 15ms/step - loss: 16783288320.0000\n",
            "Epoch 144/200\n",
            "1167/1167 [==============================] - 18s 15ms/step - loss: 16999223296.0000\n",
            "Epoch 145/200\n",
            "1167/1167 [==============================] - 18s 15ms/step - loss: 17228855296.0000\n",
            "Epoch 146/200\n",
            "1167/1167 [==============================] - 18s 15ms/step - loss: 17470384128.0000\n",
            "Epoch 147/200\n",
            "1167/1167 [==============================] - 18s 15ms/step - loss: 17715462144.0000\n",
            "Epoch 148/200\n",
            "1167/1167 [==============================] - 18s 15ms/step - loss: 17936713728.0000\n",
            "Epoch 149/200\n",
            "1167/1167 [==============================] - 18s 15ms/step - loss: 18161684480.0000\n",
            "Epoch 150/200\n",
            "1167/1167 [==============================] - 18s 15ms/step - loss: 18400985088.0000\n",
            "Epoch 151/200\n",
            "1167/1167 [==============================] - 18s 15ms/step - loss: 18645157888.0000\n",
            "Epoch 152/200\n",
            "1167/1167 [==============================] - 18s 15ms/step - loss: 18882236416.0000\n",
            "Epoch 153/200\n",
            "1167/1167 [==============================] - 18s 16ms/step - loss: 19118157824.0000\n",
            "Epoch 154/200\n",
            "1167/1167 [==============================] - 18s 16ms/step - loss: 19366742016.0000\n",
            "Epoch 155/200\n",
            "1167/1167 [==============================] - 18s 16ms/step - loss: 19611742208.0000\n",
            "Epoch 156/200\n",
            "1167/1167 [==============================] - 18s 15ms/step - loss: 19864074240.0000\n",
            "Epoch 157/200\n",
            "1167/1167 [==============================] - 18s 16ms/step - loss: 20082739200.0000\n",
            "Epoch 158/200\n",
            "1167/1167 [==============================] - 18s 15ms/step - loss: 20340047872.0000\n",
            "Epoch 159/200\n",
            "1167/1167 [==============================] - 18s 16ms/step - loss: 20592373760.0000\n",
            "Epoch 160/200\n",
            "1167/1167 [==============================] - 18s 16ms/step - loss: 20843626496.0000\n",
            "Epoch 161/200\n",
            "1167/1167 [==============================] - 18s 15ms/step - loss: 21097986048.0000\n",
            "Epoch 162/200\n",
            "1167/1167 [==============================] - 18s 16ms/step - loss: 21356673024.0000\n",
            "Epoch 163/200\n",
            "1167/1167 [==============================] - 18s 15ms/step - loss: 21609482240.0000\n",
            "Epoch 164/200\n",
            "1167/1167 [==============================] - 18s 16ms/step - loss: 21869377536.0000\n",
            "Epoch 165/200\n",
            "1167/1167 [==============================] - 18s 15ms/step - loss: 22129954816.0000\n",
            "Epoch 166/200\n",
            "1167/1167 [==============================] - 18s 16ms/step - loss: 22391031808.0000\n",
            "Epoch 167/200\n",
            "1167/1167 [==============================] - 18s 16ms/step - loss: 22656319488.0000\n",
            "Epoch 168/200\n",
            "1167/1167 [==============================] - 18s 15ms/step - loss: 22907744256.0000\n",
            "Epoch 169/200\n",
            "1167/1167 [==============================] - 18s 16ms/step - loss: 23184201728.0000\n",
            "Epoch 170/200\n",
            "1167/1167 [==============================] - 18s 15ms/step - loss: 23450580992.0000\n",
            "Epoch 171/200\n",
            "1167/1167 [==============================] - 18s 16ms/step - loss: 23718383616.0000\n",
            "Epoch 172/200\n",
            "1167/1167 [==============================] - 18s 15ms/step - loss: 23981297664.0000\n",
            "Epoch 173/200\n",
            "1167/1167 [==============================] - 18s 15ms/step - loss: 24253421568.0000\n",
            "Epoch 174/200\n",
            "1167/1167 [==============================] - 18s 16ms/step - loss: 24536004608.0000\n",
            "Epoch 175/200\n",
            "1167/1167 [==============================] - 18s 15ms/step - loss: 24811190272.0000\n",
            "Epoch 176/200\n",
            "1167/1167 [==============================] - 18s 16ms/step - loss: 25096448000.0000\n",
            "Epoch 177/200\n",
            "1167/1167 [==============================] - 18s 15ms/step - loss: 25363406848.0000\n",
            "Epoch 178/200\n",
            "1167/1167 [==============================] - 18s 16ms/step - loss: 25640114176.0000\n",
            "Epoch 179/200\n",
            "1167/1167 [==============================] - 18s 15ms/step - loss: 25918951424.0000\n",
            "Epoch 180/200\n",
            "1167/1167 [==============================] - 18s 16ms/step - loss: 26218485760.0000\n",
            "Epoch 181/200\n",
            "1167/1167 [==============================] - 18s 16ms/step - loss: 26495246336.0000\n",
            "Epoch 182/200\n",
            "1167/1167 [==============================] - 18s 15ms/step - loss: 26774523904.0000\n",
            "Epoch 183/200\n",
            "1167/1167 [==============================] - 18s 16ms/step - loss: 27061125120.0000\n",
            "Epoch 184/200\n",
            "1167/1167 [==============================] - 18s 15ms/step - loss: 27366756352.0000\n",
            "Epoch 185/200\n",
            "1167/1167 [==============================] - 18s 16ms/step - loss: 27655931904.0000\n",
            "Epoch 186/200\n",
            "1167/1167 [==============================] - 18s 15ms/step - loss: 27961212928.0000\n",
            "Epoch 187/200\n",
            "1167/1167 [==============================] - 18s 16ms/step - loss: 28233500672.0000\n",
            "Epoch 188/200\n",
            "1167/1167 [==============================] - 18s 16ms/step - loss: 28527521792.0000\n",
            "Epoch 189/200\n",
            "1167/1167 [==============================] - 18s 15ms/step - loss: 28836718592.0000\n",
            "Epoch 190/200\n",
            "1167/1167 [==============================] - 18s 16ms/step - loss: 29131843584.0000\n",
            "Epoch 191/200\n",
            "1167/1167 [==============================] - 18s 15ms/step - loss: 29430841344.0000\n",
            "Epoch 192/200\n",
            "1167/1167 [==============================] - 18s 16ms/step - loss: 29730258944.0000\n",
            "Epoch 193/200\n",
            "1167/1167 [==============================] - 18s 15ms/step - loss: 30034294784.0000\n",
            "Epoch 194/200\n",
            "1167/1167 [==============================] - 18s 16ms/step - loss: 30330722304.0000\n",
            "Epoch 195/200\n",
            "1167/1167 [==============================] - 18s 16ms/step - loss: 30648657920.0000\n",
            "Epoch 196/200\n",
            "1167/1167 [==============================] - 18s 15ms/step - loss: 30941992960.0000\n",
            "Epoch 197/200\n",
            "1167/1167 [==============================] - 18s 15ms/step - loss: 31276533760.0000\n",
            "Epoch 198/200\n",
            "1167/1167 [==============================] - 18s 15ms/step - loss: 31577827328.0000\n",
            "Epoch 199/200\n",
            "1167/1167 [==============================] - 18s 15ms/step - loss: 31896858624.0000\n",
            "Epoch 200/200\n",
            "1167/1167 [==============================] - 18s 15ms/step - loss: 32176967680.0000\n",
            "Training completed\n"
          ]
        },
        {
          "output_type": "display_data",
          "data": {
            "text/plain": [
              "<Figure size 640x480 with 1 Axes>"
            ],
            "image/png": "[encoded data removed]"
          },
          "metadata": {
            "image/png": {
              "width": 567,
              "height": 454
            }
          }
        },
        {
          "output_type": "error",
          "ename": "KeyError",
          "evalue": "ignored",
          "traceback": [
            "\u001b[0;31m---------------------------------------------------------------------------\u001b[0m",
            "\u001b[0;31mKeyError\u001b[0m                                  Traceback (most recent call last)",
            "\u001b[0;32m<ipython-input-12-4dc2ba0c028a>\u001b[0m in \u001b[0;36m<cell line: 1>\u001b[0;34m()\u001b[0m\n\u001b[0;32m----> 1\u001b[0;31m \u001b[0mtrain_model\u001b[0m\u001b[0;34m(\u001b[0m\u001b[0;34m)\u001b[0m\u001b[0;34m\u001b[0m\u001b[0;34m\u001b[0m\u001b[0m\n\u001b[0m",
            "\u001b[0;32m<ipython-input-11-c929f7371784>\u001b[0m in \u001b[0;36mtrain_model\u001b[0;34m()\u001b[0m\n\u001b[1;32m     23\u001b[0m \u001b[0;34m\u001b[0m\u001b[0m\n\u001b[1;32m     24\u001b[0m     \u001b[0;31m# Visualize training accuracy\u001b[0m\u001b[0;34m\u001b[0m\u001b[0;34m\u001b[0m\u001b[0m\n\u001b[0;32m---> 25\u001b[0;31m     \u001b[0mplt\u001b[0m\u001b[0;34m.\u001b[0m\u001b[0mplot\u001b[0m\u001b[0;34m(\u001b[0m\u001b[0mhistory\u001b[0m\u001b[0;34m.\u001b[0m\u001b[0mhistory\u001b[0m\u001b[0;34m[\u001b[0m\u001b[0;34m'accuracy'\u001b[0m\u001b[0;34m]\u001b[0m\u001b[0;34m)\u001b[0m\u001b[0;34m\u001b[0m\u001b[0;34m\u001b[0m\u001b[0m\n\u001b[0m\u001b[1;32m     26\u001b[0m     \u001b[0mplt\u001b[0m\u001b[0;34m.\u001b[0m\u001b[0mtitle\u001b[0m\u001b[0;34m(\u001b[0m\u001b[0;34m'Model Accuracy'\u001b[0m\u001b[0;34m)\u001b[0m\u001b[0;34m\u001b[0m\u001b[0;34m\u001b[0m\u001b[0m\n\u001b[1;32m     27\u001b[0m     \u001b[0mplt\u001b[0m\u001b[0;34m.\u001b[0m\u001b[0mxlabel\u001b[0m\u001b[0;34m(\u001b[0m\u001b[0;34m'Epoch'\u001b[0m\u001b[0;34m)\u001b[0m\u001b[0;34m\u001b[0m\u001b[0;34m\u001b[0m\u001b[0m\n",
            "\u001b[0;31mKeyError\u001b[0m: 'accuracy'"
          ]
        }
      ]
    },
    {
      "cell_type": "code",
      "source": [
        "import tensorflow as tf\n",
        "device_name = tf.test.gpu_device_name()\n",
        "if len(device_name) > 0:\n",
        "    print(\"Found GPU at: {}\".format(device_name))\n",
        "else:\n",
        "    device_name = \"/device:CPU:0\"\n",
        "    print(\"No GPU, using {}.\".format(device_name))"
      ],
      "metadata": {
        "id": "C5_hSnZnudd2",
        "colab": {
          "base_uri": "https://localhost:8080/"
        },
        "outputId": "5bc3d130-ea06-4aa7-bbdd-48a1ca3519bb"
      },
      "execution_count": 1,
      "outputs": [
        {
          "output_type": "stream",
          "name": "stdout",
          "text": [
            "Found GPU at: /device:GPU:0\n"
          ]
        }
      ]
    },
    {
      "cell_type": "code",
      "execution_count": 2,
      "metadata": {
        "id": "2rqF6VYkZcHO",
        "colab": {
          "base_uri": "https://localhost:8080/"
        },
        "outputId": "d89b632c-2e9e-466d-cd31-3a1f1a036315"
      },
      "outputs": [
        {
          "output_type": "stream",
          "name": "stdout",
          "text": [
            "Cloning into 'ZavrsniRad'...\n",
            "remote: Enumerating objects: 295, done.\u001b[K\n",
            "remote: Counting objects: 100% (72/72), done.\u001b[K\n",
            "remote: Compressing objects: 100% (68/68), done.\u001b[K\n",
            "remote: Total 295 (delta 5), reused 0 (delta 0), pack-reused 223\u001b[K\n",
            "Receiving objects: 100% (295/295), 2.43 MiB | 4.87 MiB/s, done.\n",
            "Resolving deltas: 100% (10/10), done.\n"
          ]
        }
      ],
      "source": [
        "import os\n",
        "!git clone https://github.com/selmakurtovic4/ZavrsniRad.git\n",
        "os.chdir('/content/ZavrsniRad')"
      ]
    },
    {
      "cell_type": "code",
      "source": [
        "import sys\n",
        "import re\n",
        "import numpy as np\n",
        "import pandas as pd\n",
        "import music21\n",
        "from glob import glob\n",
        "import IPython\n",
        "from tqdm import tqdm\n",
        "import pickle\n",
        "from keras.utils import np_utils\n",
        "import os\n",
        "from music21 import converter, instrument, note, chord, stream\n",
        "from keras.models import Sequential\n",
        "from keras.layers import Activation, Dense, LSTM, Dropout, Flatten\n",
        "from keras.callbacks import ModelCheckpoint\n",
        "import json\n",
        "import matplotlib.pyplot as plt\n"
      ],
      "metadata": {
        "id": "bFFPfAvrZfoK"
      },
      "execution_count": 3,
      "outputs": []
    },
    {
      "cell_type": "code",
      "source": [
        "songs = glob('./Datasets/TheBeatles/*.mid')"
      ],
      "metadata": {
        "id": "4V7TCh3KZqaR"
      },
      "execution_count": null,
      "outputs": []
    },
    {
      "cell_type": "code",
      "source": [
        "def prepare_duration_dictionary(notes, unique_pitch_num):\n",
        "     durations = [element[\"duration\"] for element in notes]\n",
        "     duration_names = sorted(set(item for item in durations))\n",
        "     unique_duration_num=len(duration_names)\n",
        "     duration_to_int = {note: value for value, note in enumerate(duration_names, start=unique_pitch_num)}\n",
        "     return  unique_duration_num,duration_to_int\n"
      ],
      "metadata": {
        "id": "GC4O4yNPSBjm"
      },
      "execution_count": 4,
      "outputs": []
    },
    {
      "cell_type": "code",
      "source": [
        "def prepare_pitch_dictionary(notes):\n",
        "     pitches = [element[\"pitch\"] for element in notes]\n",
        "     pitch_names = sorted(set(item for item in pitches))\n",
        "     unique_count=len(pitch_names)\n",
        "     pitch_to_int = dict((note, number) for number, note in enumerate(pitch_names))\n",
        "     return unique_count,pitch_to_int\n"
      ],
      "metadata": {
        "id": "1r9xPS3jG8zB"
      },
      "execution_count": 5,
      "outputs": []
    },
    {
      "cell_type": "code",
      "source": [
        "def transform_duration_value(duration):\n",
        "   num=1\n",
        "   base_value= 1/16\n",
        "   middle=1/32\n",
        "   decimalValue=1.0\n",
        "   while(duration > base_value):\n",
        "    duration=duration-base_value\n",
        "    num=num+1\n",
        "    decimalValue=duration\n",
        "   if(decimalValue<middle):\n",
        "    num=num-1\n",
        "   duration=num/16\n",
        "   return duration"
      ],
      "metadata": {
        "id": "V1i_PVhK3kTY"
      },
      "execution_count": 6,
      "outputs": []
    },
    {
      "cell_type": "code",
      "source": [
        "def prepare_duration_array(notes):\n",
        "  durations = [element[\"duration\"] for element in notes]\n",
        "  #transform to real numbers\n",
        "  for note in notes:\n",
        "    note[\"duration\"]=round(eval(note[\"duration\"]),2)\n",
        "  #transform to 1/16 based values\n",
        "  base_value= 1/16\n",
        "  comparing_value=0.001\n",
        "  for index, note in enumerate(notes):\n",
        "    duration=note[\"duration\"]\n",
        "    if(duration<1):\n",
        "      new_value=transform_duration_value(duration)\n",
        "      note[\"duration\"] = new_value\n",
        "    else:\n",
        "      #create new notes, min 2\n",
        "      is_it_float=0\n",
        "      additional_value=duration-int(duration)\n",
        "      if(additional_value>0):\n",
        "         is_it_float=1\n",
        "         #additional_value=round(additional_value,2)\n",
        "      numberOfNotes=int(duration)+ is_it_float\n",
        "      numberOfInsertedNotes=numberOfNotes-1\n",
        "      note[\"duration\"]=1\n",
        "      for i in range(0,numberOfInsertedNotes-1):\n",
        "        element={\"pitch\": note[\"pitch\"], \"duration\": 1, \"played\":0 }\n",
        "        notes.insert(index+1,element)\n",
        "      if(is_it_float):\n",
        "        new_duration=transform_duration_value(additional_value)\n",
        "        element={\"pitch\": note[\"pitch\"], \"duration\": new_duration, \"played\":0 }\n",
        "        notes.insert(index+numberOfInsertedNotes,element)\n"
      ],
      "metadata": {
        "id": "XuxEVBFcKM35"
      },
      "execution_count": 7,
      "outputs": []
    },
    {
      "cell_type": "code",
      "source": [
        "    notes=json.load(open('./Data/notes.json'))\n",
        "    notes=notes[:60]\n",
        "    print(notes)\n",
        "    print('Notes processed')\n",
        "    network_in, network_out= prepare_sequences(notes)\n",
        "    print(\"input\")\n",
        "    print(network_in[0])"
      ],
      "metadata": {
        "id": "JUA4GMNKRJcQ"
      },
      "execution_count": null,
      "outputs": []
    },
    {
      "cell_type": "code",
      "source": [
        "def prepare_sequences(notes):\n",
        "\n",
        "    sequence_length = 50\n",
        "    prepare_duration_array(notes)\n",
        "    unique_pitch_num, pitch_dictionary = prepare_pitch_dictionary(notes)\n",
        "    unique_duration_num, duration_dictionary = prepare_duration_dictionary(notes, unique_pitch_num+1)\n",
        "\n",
        "    network_input = []\n",
        "    network_output=[]\n",
        "\n",
        "    network_output_played=[]\n",
        "\n",
        "    for i in range(0, len(notes) - sequence_length, 1):\n",
        "        notes_sequence = notes[i: i + sequence_length]\n",
        "\n",
        "        sequence_in = []\n",
        "        for note in notes_sequence:\n",
        "            sequence_in.append(pitch_dictionary[note[\"pitch\"]])\n",
        "            sequence_in.append(duration_dictionary[note[\"duration\"] ])\n",
        "            sequence_in.append(note[\"played\"])\n",
        "        network_input.append(sequence_in)\n",
        "\n",
        "\n",
        "        network_output_pitch=pitch_dictionary[notes[i + sequence_length][\"pitch\"]]\n",
        "        network_output_duration=duration_dictionary[notes[i + sequence_length][\"duration\"]]\n",
        "\n",
        "        network_output_played=notes[i + sequence_length][\"played\"]\n",
        "\n",
        "\n",
        "          #encode\n",
        "\n",
        "        length=unique_duration_num+unique_pitch_num+1\n",
        "\n",
        "        network_output_pitch= np_utils.to_categorical(network_output_pitch, num_classes=length)\n",
        "\n",
        "        network_output_duration=np_utils.to_categorical(network_output_duration, num_classes=length)\n",
        "\n",
        "\n",
        "\n",
        "\n",
        "\n",
        "        #combine\n",
        "\n",
        "        combined_list = network_output_pitch + network_output_duration\n",
        "\n",
        "        combined_list= np.append(combined_list, network_output_played)\n",
        "\n",
        "        network_output.append(combined_list)\n",
        "\n",
        "\n",
        "    # scaling of pitch input\n",
        "    network_input=np.array(network_input)\n",
        "    network_input = network_input.astype(float)\n",
        "    const=100\n",
        "    for row in network_input:\n",
        "        row[::3] /= unique_pitch_num\n",
        "        for index,element in enumerate(row):\n",
        "          if(index-1)%3==0:\n",
        "            row[index]/=const\n",
        "\n",
        "    # reshape the input into a format compatible with LSTM layers\n",
        "    num_of_sequences = len(network_input)\n",
        "    input_length=sequence_length * 3\n",
        "    network_input = np.reshape(network_input, (num_of_sequences, input_length, 1))\n",
        "\n",
        "    return (network_input, network_output)\n"
      ],
      "metadata": {
        "id": "gkdCBnblZ7j9"
      },
      "execution_count": 8,
      "outputs": []
    },
    {
      "cell_type": "code",
      "source": [
        "def create_network(network_in, unique_pitch_num, unique_duration_num):\n",
        "    model = Sequential()\n",
        "    model.add(LSTM(128, input_shape=network_in.shape[1:], return_sequences=True))\n",
        "    model.add(Dropout(0.2))\n",
        "    model.add(LSTM(128, return_sequences=True))\n",
        "    model.add(Flatten())\n",
        "    model.add(Dense(256))\n",
        "    model.add(Dropout(0.3))\n",
        "    output_length=unique_pitch_num+unique_duration_num+1+1\n",
        "    model.add(Dense(output_length))\n",
        "    model.add(Activation('sigmoid'))\n",
        "    model.compile(loss='categorical_crossentropy', optimizer='adam')\n",
        "\n",
        "    return model"
      ],
      "metadata": {
        "id": "GQn0zGA-aBZk"
      },
      "execution_count": 9,
      "outputs": []
    },
    {
      "cell_type": "code",
      "source": [
        "def train(model, network_input, network_output, epochs):\n",
        "    # Create checkpoint to save the best model weights.\n",
        "    filepath = 'weights.hdf5'\n",
        "    checkpoint = ModelCheckpoint(filepath, monitor='loss', verbose=0, save_best_only=True)\n",
        "\n",
        "    history=model.fit(network_input, network_output, epochs=epochs, batch_size=50, callbacks=[checkpoint])\n",
        "    return history"
      ],
      "metadata": {
        "id": "FBDjbjv-aFLY"
      },
      "execution_count": 10,
      "outputs": []
    },
    {
      "cell_type": "code",
      "source": [
        "def train_model():\n",
        "    epochs = 200\n",
        "    #notes = get_notes()\n",
        "    notes=json.load(open('./Data/notes.json'))\n",
        "    print('Notes processed')\n",
        "    network_in, network_out= prepare_sequences(notes)\n",
        "    unique_pitch_num= len(set( [item['pitch'] for item in notes] ))\n",
        "    unique_duration_num =len(set( [item['duration'] for item in notes] ))\n",
        "    print('Input and Output processed')\n",
        "    network_out=np.array(network_out)\n",
        "    with tf.device(device_name):\n",
        "      model = create_network(network_in, unique_pitch_num, unique_duration_num)\n",
        "    print('Model created')\n",
        "    print('Training in progress')\n",
        "    history=train(model, network_in, network_out,epochs)\n",
        "    print('Training completed')\n",
        "   # Visualize training loss\n",
        "    plt.plot(history.history['loss'])\n",
        "    plt.title('Model Loss')\n",
        "    plt.xlabel('Epoch')\n",
        "    plt.ylabel('Loss')\n",
        "    plt.show()\n",
        "\n",
        "    # Visualize training accuracy\n",
        "    plt.plot(history.history['accuracy'])\n",
        "    plt.title('Model Accuracy')\n",
        "    plt.xlabel('Epoch')\n",
        "    plt.ylabel('Accuracy')\n",
        "    plt.show()\n",
        "    return model\n"
      ],
      "metadata": {
        "id": "chN-7hoFaFz_"
      },
      "execution_count": 11,
      "outputs": []
    },
    {
      "cell_type": "code",
      "source": [
        "def generate():\n",
        "    with open('Data/notes', 'rb') as filepath:\n",
        "      notes = pickle.load(filepath)\n",
        "    pitchnames = sorted(set(item for item in notes))\n",
        "    n_vocab = len(set(notes))\n",
        "\n",
        "    print('Initiating music generation process.......')\n",
        "\n",
        "    network_input = get_inputSequences(notes, pitchnames, n_vocab)\n",
        "    model = create_network(network_input, n_vocab)\n",
        "    print('Loading Model weights.....')\n",
        "    model.load_weights('weights.hdf5')\n",
        "    print('Model Loaded')\n",
        "    prediction_output = generate_notes(model, network_input, pitchnames, n_vocab)\n",
        "    create_midi(prediction_output)"
      ],
      "metadata": {
        "id": "9ONUhAwfaIop"
      },
      "execution_count": null,
      "outputs": []
    },
    {
      "cell_type": "markdown",
      "source": [
        "**GET_INPUTSEQUENCES**\n",
        "\n",
        "---\n",
        "Ova metoda radi sve kao i prepare_sequence osim sto nema output niz nego samo input, nije mi jasno sto je potrebna uopste\n"
      ],
      "metadata": {
        "id": "3-j6WiOHcu12"
      }
    },
    {
      "cell_type": "code",
      "source": [
        "def get_inputSequences(notes, pitchnames, n_vocab):\n",
        "\n",
        "    note_to_int = dict((note, number) for number, note in enumerate(pitchnames))\n",
        "\n",
        "    sequence_length = 50\n",
        "    network_input = []\n",
        "    for i in range(0, len(notes) - sequence_length, 1):\n",
        "        sequence_in = notes[i:i + sequence_length]\n",
        "        network_input.append([note_to_int[char] for char in sequence_in])\n",
        "\n",
        "    n_patterns = len(network_input)\n",
        "    print ('n_patterns ', n_patterns)\n",
        "    print ('n_vocab ', n_vocab)\n",
        "\n",
        "    # reshape the input into a format comatible with LSTM layers\n",
        "    network_input = np.reshape(network_input, (n_patterns, sequence_length, 1))\n",
        "\n",
        "    # normalize input\n",
        "    network_input = network_input / float(n_vocab)\n",
        "\n",
        "    return (network_input)\n"
      ],
      "metadata": {
        "id": "Uioiwe81aOUm"
      },
      "execution_count": null,
      "outputs": []
    },
    {
      "cell_type": "code",
      "source": [
        "def generate_notes(model, network_input, pitchnames, n_vocab):\n",
        "    start = np.random.randint(0, len(network_input)-1)\n",
        "    int_to_note = dict((number, note) for number, note in enumerate(pitchnames))\n",
        "    pattern = network_input[start]\n",
        "    print ('pattern.shape', pattern.shape)\n",
        "    prediction_output = []\n",
        "\n",
        "    print('Generating notes........')\n",
        "\n",
        "    for note_index in range(500):\n",
        "        prediction_input = np.reshape(pattern, (1, len(pattern), 1))\n",
        "        prediction_input = prediction_input / float(n_vocab)\n",
        "\n",
        "        prediction = model.predict(prediction_input, verbose=0)\n",
        "\n",
        "        # Predicted output is the argmax(P(h|D))\n",
        "        index = np.argmax(prediction)\n",
        "        # Mapping the predicted interger back to the corresponding note\n",
        "        result = int_to_note[index]\n",
        "        # Storing the predicted output\n",
        "        prediction_output.append(result)\n",
        "\n",
        "        pattern = np.append(pattern, index)\n",
        "        # Next input to the model\n",
        "        pattern = pattern[1:len(pattern)]\n",
        "\n",
        "    print('Notes Generated...')\n",
        "    return prediction_output"
      ],
      "metadata": {
        "id": "5fUM2fo0aPSo"
      },
      "execution_count": null,
      "outputs": []
    },
    {
      "cell_type": "markdown",
      "source": [
        "**CREATE_MIDI**\n",
        "\n",
        "---\n",
        "\n",
        "\n",
        "\n",
        "\n",
        "\n",
        "1.   Prolazi se kroz sve elemente prediction_outputa petljom\n",
        "2.   Sad ima definisano sta se desava ukoliko je element chord, onda se taj string razdvoji po tacki da bi dobili pojedinacne note i prave se novi objekti Note i oni se dodaju objektu Chord i konacno se to dodaje u output_notes.\n",
        "3. Definisano je sta se desava ako je element nota, definise se instrument klavir i dodaje u output_notes\n",
        "4. Offset oznacava udaljenost neke note od pocetka ako sam dobro shvatila, tako da se ovdje povecava za 0.5 prilikom svake nove note\n",
        "5. Napravi se stream od output_notes-a i to se zapise kao midi fajl u folder GeneratedMusic\n",
        "\n",
        "\n"
      ],
      "metadata": {
        "id": "yJNakvyY-nU7"
      }
    },
    {
      "cell_type": "code",
      "source": [
        "def create_midi(prediction_output):\n",
        "    offset = 0\n",
        "    output_notes = []\n",
        "\n",
        "    # create note and chord objects based on the values generated by the model\n",
        "    for pattern in prediction_output:\n",
        "        # pattern is a chord\n",
        "        if ('.' in pattern) or pattern.isdigit():\n",
        "            notes_in_chord = pattern.split('.')\n",
        "            notes = []\n",
        "            for current_note in notes_in_chord:\n",
        "                new_note = note.Note(int(current_note))\n",
        "                new_note.storedInstrument = instrument.Piano()\n",
        "                notes.append(new_note)\n",
        "            new_chord = chord.Chord(notes)\n",
        "            new_chord.offset = offset\n",
        "            output_notes.append(new_chord)\n",
        "        # pattern is a note\n",
        "        else:\n",
        "            new_note = note.Note(pattern)\n",
        "            new_note.offset = offset\n",
        "            new_note.storedInstrument = instrument.Piano()\n",
        "            output_notes.append(new_note)\n",
        "\n",
        "        # increase offset each iteration so that notes do not stack\n",
        "        offset += 0.5\n",
        "\n",
        "    midi_stream = stream.Stream(output_notes)\n",
        "\n",
        "    folder_path = '/content/ZavrsniRad/GeneratedSongs'\n",
        "    number = len(os.listdir(folder_path))+1\n",
        "    filename = f\"test{number}.mid\"\n",
        "    midi_stream.write('midi', fp=filename)"
      ],
      "metadata": {
        "id": "SPp_jT30aT9A"
      },
      "execution_count": null,
      "outputs": []
    },
    {
      "cell_type": "code",
      "source": [
        "\n",
        "import os\n",
        "\n",
        "file_path = './Data/notes.json'  # Replace with the actual path to your JSON file\n",
        "file_size = os.path.getsize(file_path)\n",
        "print(file_size/1024**3)"
      ],
      "metadata": {
        "colab": {
          "base_uri": "https://localhost:8080/"
        },
        "id": "PQto4Zieea1h",
        "outputId": "860d5734-8a64-4262-8f53-fe31b7385d11"
      },
      "execution_count": null,
      "outputs": [
        {
          "output_type": "stream",
          "name": "stdout",
          "text": [
            "0.001682540401816368\n"
          ]
        }
      ]
    },
    {
      "cell_type": "code",
      "source": [],
      "metadata": {
        "id": "Lq5uSQ50LIkh"
      },
      "execution_count": null,
      "outputs": []
    },
    {
      "cell_type": "code",
      "source": [
        "# Train model\n",
        "train_model()\n",
        "# Generate notes\n",
        "#generate()"
      ],
      "metadata": {
        "id": "jH2pJGKNacpJ"
      },
      "execution_count": null,
      "outputs": []
    },
    {
      "cell_type": "code",
      "source": [],
      "metadata": {
        "id": "QDbonBMNLJcP"
      },
      "execution_count": null,
      "outputs": []
    },
    {
      "cell_type": "code",
      "source": [
        "import pickle\n",
        "import os\n",
        "os.chdir('/content/ZavrsniRad/Data')\n",
        "with open('notes.pickle', 'rb') as file:\n",
        "    notes = pickle.load(file)\n",
        "print(notes)"
      ],
      "metadata": {
        "colab": {
          "base_uri": "https://localhost:8080/"
        },
        "id": "yBEKoLAQoL6m",
        "outputId": "9e9a7a89-13b7-4edf-dd18-73e246639d27"
      },
      "execution_count": null,
      "outputs": [
        {
          "output_type": "stream",
          "name": "stdout",
          "text": [
            "['F#3', '0.5', 'E3', '0.25', 'D3', '0.25', 'B2', '0.5', 'A2', '0.25', 'D2', '1.25', 'D2', '0.5', 'A2', '0.25', 'D2', '1.25', 'D2', '0.25', 'A2', '0.25', 'D2', '1.25', 'D2', '0.5', 'A2', '0.25', 'D2', '1.25', 'D2', '0.5', 'A2', '0.25', 'D2', '1.25', 'D2', '0.5', 'A2', '0.25', 'D2', '1.25', 'D2', '0.5', 'A2', '0.25', 'D2', '1.25', 'D2', '0.25', 'A2', '0.25', 'D2', '1.25', 'D2', '0.25', 'A2', '0.25', 'G2', '2.0', 'B2', '2.0', 'D3', '2.0', 'G3', '2.0', 'D2', '1.25', 'D2', '0.5', 'A2', '0.25', 'D2', '1.25', 'D2', '0.25', 'A2', '0.25', 'G2', '2.0', 'B2', '2.0', 'D3', '2.0', 'G3', '2.0', 'D2', '1.25', 'D2', '0.5', 'A2', '0.5', 'D2', '1.25', 'D2', '0.25', 'A2', '0.25', 'D2', '1.25', 'D2', '0.5', 'A2', '0.25', 'D2', '1.25', 'D2', '0.25', 'A2', '0.25', 'D2', '1.25', 'D2', '0.5', 'A2', '0.25', 'D2', '1.25', 'D2', '0.5', 'A2', '0.25', 'D2', '1.25', 'D2', '0.5', 'A2', '0.25', 'D2', '1.25', 'D2', '0.5', 'A2', '0.25', 'D2', '1.25', 'D2', '0.25', 'A2', '0.25', 'D2', '1.25', 'D2', '0.25', 'A2', '0.25', 'G2', '2.0', 'B2', '2.0', 'D3', '2.0', 'G3', '2.0', 'D2', '1.25', 'D2', '0.5', 'A2', '0.25', 'D2', '1.25', 'D2', '0.25', 'A2', '0.25', 'G2', '2.0', 'B2', '2.0', 'D3', '2.0', 'G3', '2.0', 'D2', '1.25', 'D2', '0.5', 'A2', '0.5', 'D2', '1.25', 'D2', '0.25', 'A2', '0.25', 'B1', '3.25', 'B1', '0.5', 'B-1', '3.25', 'B-1', '0.5', 'A1', '3.25', 'A1', '0.5', 'B1', '3.75', 'G1', '1.25', 'G1', '1.75', 'G1', '0.5', 'D2', '2.75', 'D2', '0.5', 'G1', '3.25', 'G1', '0.5', 'F#1', '0.5', 'D2', '2.75', 'D2', '0.5', 'G1', '3.25', 'G1', '0.5', 'F#1', '0.5', 'D2', '0.75', 'D2', '1.75', 'D2', '0.5', 'A1', '1.25', 'A1', '2.5', 'A1', '0.25', 'A1', '0.5', 'A1', '0.25', 'A1', '0.25', 'A1', '0.75', 'A1', '0.75', 'G1', '1.25', 'G1', '1.75', 'G1', '0.5', 'D2', '2.75', 'D2', '0.5', 'G1', '3.25', 'G1', '0.5', 'F#1', '0.5', 'D2', '2.75', 'D2', '0.5', 'G1', '3.25', 'G1', '0.5', 'F#1', '0.5', 'D2', '0.75', 'D2', '1.75', 'D2', '0.5', 'A1', '1.25', 'A1', '2.5', 'A1', '0.25', 'A1', '0.5', 'A1', '0.25', 'A1', '0.25', 'A1', '0.75', 'A1', '0.75', 'D2', '1.25', 'D2', '0.5', 'A2', '0.25', 'D2', '1.25', 'D2', '0.25', 'A2', '0.25', 'D2', '1.25', 'D2', '0.5', 'A2', '0.25', 'D2', '1.25', 'D2', '0.5', 'A2', '0.25', 'D2', '1.25', 'D2', '0.5', 'A2', '0.25', 'D2', '1.25', 'D2', '0.5', 'A2', '0.25', 'D2', '1.25', 'D2', '0.25', 'A2', '0.25', 'D2', '1.25', 'D2', '0.25', 'A2', '0.25', 'G2', '2.0', 'B2', '2.0', 'D3', '2.0', 'G3', '2.0', 'D2', '1.25', 'D2', '0.5', 'A2', '0.25', 'D2', '1.25', 'D2', '0.25', 'A2', '0.25', 'G2', '2.0', 'B2', '2.0', 'D3', '2.0', 'G3', '2.0', 'D2', '1.25', 'D2', '0.5', 'A2', '0.5', 'D2', '1.25', 'D2', '0.25', 'A2', '0.25', 'D2', '1.25', 'D2', '0.5', 'A2', '0.25', 'D2', '1.25', 'D2', '0.25', 'A2', '0.25', 'D2', '1.25', 'D2', '0.5', 'A2', '0.25', 'D2', '1.25', 'D2', '0.5', 'A2', '0.25', 'D2', '1.25', 'D2', '0.5', 'A2', '0.25', 'D2', '1.25', 'D2', '0.5', 'A2', '0.25', 'D2', '1.25', 'D2', '0.25', 'A2', '0.25', 'D2', '1.25', 'D2', '0.25', 'A2', '0.25', 'G2', '2.0', 'B2', '2.0', 'D3', '2.0', 'G3', '2.0', 'D2', '1.25', 'D2', '0.5', 'A2', '0.25', 'D2', '1.25', 'D2', '0.25', 'A2', '0.25', 'G2', '2.0', 'B2', '2.0', 'D3', '2.0', 'G3', '2.0', 'D2', '1.25', 'D2', '0.5', 'A2', '0.5', 'D2', '1.25', 'D2', '0.25', 'A2', '0.25', 'G2', '4.0', 'G2', '4.0', 'G2', '5/3', 'D2', '1.5', 'D2', '4.0', 'D2', '4.0', 'D2', '4.0', 'D2', '1.25', 'C2', '2/3', 'C2', '1.0', 'A1', '2/3', 'A1', '1.0', 'F2', '1/3', 'F2', '2/3', 'F2', '1/3', 'G2', '2/3', 'G2', '1.0', 'C2', '1/3', 'C2', '2/3', 'C2', '1/3', 'A1', '1/3', 'A1', '2/3', 'A1', '1/3', 'F2', '2/3', 'F2', '1.0', 'G2', '2/3', 'G2', '1.0', 'F2', '1/3', 'F2', '2/3', 'F2', '1/3', 'D2', '1/3', 'D2', '2/3', 'D2', '1/3', 'C2', '1/3', 'C2', '2/3', 'C2', '1/3', 'A1', '1/3', 'A1', '2/3', 'A1', '1/3', 'F2', '1/3', 'F2', '2/3', 'F2', '1/3', 'G2', '2/3', 'G2', '1.0', 'C2', '1/3', 'C2', '2/3', 'C2', '1/3', 'G2', '2/3', 'G2', '1.0', 'C2', '1/3', 'C2', '2/3', 'C2', '1/3', 'A1', '2/3', 'A1', '1.0', 'F2', '2/3', 'F2', '1.0', 'G2', '2/3', 'G2', '1.0', 'C2', '2/3', 'C2', '1.0', 'A1', '2/3', 'A1', '1.0', 'F2', '2/3', 'F2', '1.0', 'G2', '2/3', 'G2', '1.0', 'F2', '2/3', 'F2', '1.0', 'D2', '2/3', 'D2', '1.0', 'C2', '2/3', 'C2', '1.0', 'A1', '1/3', 'A1', '2/3', 'A1', '1/3', 'F2', '1/3', 'F2', '2/3', 'F2', '1/3', 'G2', '1/3', 'G2', '2/3', 'G2', '1/3', 'C2', '0.25', 'C2', '2/3', 'G1', '1/3', 'A1', '0.25', 'C2', '1/3', 'C2', '0.5', 'C3', '1/3', 'G2', '0.25', '0.2', 'C2', '1/3', 'C2', '2.25', 'D5', '0.5', 'D5', '1.0', 'D5', '1.0', 'D5', '2.0', 'D5', '1.0', 'F#5', '1.0', 'F#5', '1.0', 'G5', '1.0', 'G5', '1.0', 'G5', '1.0', 'D5', '3.0', '11.2', '9.2', '9.2', '9.2', '9.2', '2.6', '4.7', '2.7', '7.0', '11.2', '11.2', '11.2', '9.2', '9.2', '9.2', '9.2', '4.7', '4.7', '2.7', '2.7', '11.2', '11.2', '9.0', '9.0', '9.0', '9.0', '1.4', '1.4', '1.4', '2.6', '2.6', 'D5', '1.0', 'B4', '0.5', 'D5', '0.5', 'D5', '1.0', 'D5', '1.0', 'D5', '2.0', 'D5', '1.0', 'F#5', '1.0', 'F#5', '1.0', 'G5', '1.0', 'G5', '1.0', 'G5', '1.0', 'D5', '3.0', '11.2', '9.2', '9.2', '9.2', '9.2', '2.6', '4.7', '2.7', '7.0', '11.2', '11.2', '11.2', '9.2', '9.2', '9.2', '9.2', '4.7', '4.7', '2.7', '2.7', '11.2', '11.2', '9.0', '9.0', '9.0', '9.0', '1.4', '1.4', '1.4', '2.6', '2.6', 'D5', '1.0', 'B4', '0.5', 'G5', '1.0', 'G5', '1.0', 'G5', '1.0', 'G5', '1.0', 'G5', '1.0', 'G5', '1.0', 'G5', '1.0', 'G5', '0.5', 'G5', '0.5', 'G5', '0.5', 'G5', '0.5', 'E5', '3.0', 'B4', '0.5', 'G5', '0.5', '2.7', '2.7', 'G5', '0.5', 'G5', '0.5', 'G5', '1.0', 'G5', '1.0', 'G5', '1.0', 'G5', '1.0', 'F#5', '3.0', 'G5', '0.5', '2.7', '2.7', 'G5', '0.5', 'G5', '0.5', '2.7', 'G5', '1.0', 'G5', '0.5', 'G5', '0.5', 'G5', '0.5', 'G5', '0.5', 'E5', '3.0', 'E5', '0.5', 'F#5', '0.5', 'F#5', '0.5', 'F#5', '0.5', 'F#5', '0.5', 'F#5', '1.0', 'F#5', '1.0', 'G5', '1.0', 'G5', '2.0', 'D5', '0.5', 'B4', '3.0']\n"
          ]
        }
      ]
    },
    {
      "cell_type": "code",
      "source": [
        "import pickle\n",
        "from music21 import converter, instrument, note, chord\n",
        "\n",
        "def get_notes(songs):\n",
        "    notes = []\n",
        "    for file in songs:\n",
        "        try:\n",
        "            midi = converter.parse(file)\n",
        "            notes_to_parse = []\n",
        "            try:\n",
        "                Score = instrument.partitionByInstrument(midi)\n",
        "            except:\n",
        "                pass\n",
        "            if Score and len(Score)>1: # if parts have instrument parts and if it has more than one instrument\n",
        "                notes_to_parse = Score.parts[1].recurse()\n",
        "            else:\n",
        "                notes_to_parse = midi.flat.notes\n",
        "\n",
        "            for element in notes_to_parse:\n",
        "                if isinstance(element, note.Note):\n",
        "                    element={\"pitch\": str(element.pitch), \"duration\": str(element.duration.quarterLength), \"played\":1 }\n",
        "                    notes.append(element)\n",
        "                elif isinstance(element, chord.Chord):\n",
        "                    normalOrderChord='.'.join(str(n) for n in element.normalOrder)\n",
        "                    element={\"pitch\":  normalOrderChord, \"duration\": str(element.duration.quarterLength), \"played\":1 }\n",
        "                    notes.append(element)\n",
        "                elif isinstance(element, note.Rest):\n",
        "                    element={\"pitch\": \"r\", \"duration\": str(element.duration.quarterLength), \"played\":1 }\n",
        "                    notes.append(element)\n",
        "        except Exception as e:\n",
        "            print(f\"Error parsing MIDI file {file}: {e}\")\n",
        "            continue\n",
        "\n",
        "    # Save the notes to a file\n",
        "    with open('Data/notes.json', 'w') as filepath:\n",
        "        json.dump(notes, filepath)\n",
        "\n",
        "\n",
        "\n",
        "    return notes\n"
      ],
      "metadata": {
        "id": "7LMHJe7AZ0mV"
      },
      "execution_count": null,
      "outputs": []
    },
    {
      "cell_type": "code",
      "source": [
        "import pickle\n",
        "import os\n",
        "os.chdir('/content/ZavrsniRad/Data')\n",
        "with open('notes.pickle', 'rb') as file:\n",
        "    notes = pickle.load(file)\n",
        "print(notes)"
      ],
      "metadata": {
        "colab": {
          "base_uri": "https://localhost:8080/"
        },
        "id": "PspawrMN_PI4",
        "outputId": "6726c089-2f8f-49fb-eb6c-e632b6d3f07f"
      },
      "execution_count": null,
      "outputs": [
        {
          "output_type": "stream",
          "name": "stdout",
          "text": [
            "['F#3', 'E3', 'D3', 'B2', 'A2', 'D2', 'D2', 'A2', 'D2', 'D2', 'A2', 'D2', 'D2', 'A2', 'D2', 'D2', 'A2', 'D2', 'D2', 'A2', 'D2', 'D2', 'A2', 'D2', 'D2', 'A2', 'D2', 'D2', 'A2', 'G2', 'B2', 'D3', 'G3', 'D2', 'D2', 'A2', 'D2', 'D2', 'A2', 'G2', 'B2', 'D3', 'G3', 'D2', 'D2', 'A2', 'D2', 'D2', 'A2', 'D2', 'D2', 'A2', 'D2', 'D2', 'A2', 'D2', 'D2', 'A2', 'D2', 'D2', 'A2', 'D2', 'D2', 'A2', 'D2', 'D2', 'A2', 'D2', 'D2', 'A2', 'D2', 'D2', 'A2', 'G2', 'B2', 'D3', 'G3', 'D2', 'D2', 'A2', 'D2', 'D2', 'A2', 'G2', 'B2', 'D3', 'G3', 'D2', 'D2', 'A2', 'D2', 'D2', 'A2', 'B1', 'B1', 'B-1', 'B-1', 'A1', 'A1', 'B1', 'G1', 'G1', 'G1', 'D2', 'D2', 'G1', 'G1', 'F#1', 'D2', 'D2', 'G1', 'G1', 'F#1', 'D2', 'D2', 'D2', 'A1', 'A1', 'A1', 'A1', 'A1', 'A1', 'A1', 'A1', 'G1', 'G1', 'G1', 'D2', 'D2', 'G1', 'G1', 'F#1', 'D2', 'D2', 'G1', 'G1', 'F#1', 'D2', 'D2', 'D2', 'A1', 'A1', 'A1', 'A1', 'A1', 'A1', 'A1', 'A1', 'D2', 'D2', 'A2', 'D2', 'D2', 'A2', 'D2', 'D2', 'A2', 'D2', 'D2', 'A2', 'D2', 'D2', 'A2', 'D2', 'D2', 'A2', 'D2', 'D2', 'A2', 'D2', 'D2', 'A2', 'G2', 'B2', 'D3', 'G3', 'D2', 'D2', 'A2', 'D2', 'D2', 'A2', 'G2', 'B2', 'D3', 'G3', 'D2', 'D2', 'A2', 'D2', 'D2', 'A2', 'D2', 'D2', 'A2', 'D2', 'D2', 'A2', 'D2', 'D2', 'A2', 'D2', 'D2', 'A2', 'D2', 'D2', 'A2', 'D2', 'D2', 'A2', 'D2', 'D2', 'A2', 'D2', 'D2', 'A2', 'G2', 'B2', 'D3', 'G3', 'D2', 'D2', 'A2', 'D2', 'D2', 'A2', 'G2', 'B2', 'D3', 'G3', 'D2', 'D2', 'A2', 'D2', 'D2', 'A2', 'G2', 'G2', 'G2', 'D2', 'D2', 'D2', 'D2', 'D2', 'C2', 'C2', 'A1', 'A1', 'F2', 'F2', 'F2', 'G2', 'G2', 'C2', 'C2', 'C2', 'A1', 'A1', 'A1', 'F2', 'F2', 'G2', 'G2', 'F2', 'F2', 'F2', 'D2', 'D2', 'D2', 'C2', 'C2', 'C2', 'A1', 'A1', 'A1', 'F2', 'F2', 'F2', 'G2', 'G2', 'C2', 'C2', 'C2', 'G2', 'G2', 'C2', 'C2', 'C2', 'A1', 'A1', 'F2', 'F2', 'G2', 'G2', 'C2', 'C2', 'A1', 'A1', 'F2', 'F2', 'G2', 'G2', 'F2', 'F2', 'D2', 'D2', 'C2', 'C2', 'A1', 'A1', 'A1', 'F2', 'F2', 'F2', 'G2', 'G2', 'G2', 'C2', 'C2', 'G1', 'A1', 'C2', 'C2', 'C3', 'G2', '0.2', 'C2', 'C2', 'D5', 'D5', 'D5', 'D5', 'D5', 'F#5', 'F#5', 'G5', 'G5', 'G5', 'D5', '11.2', '9.2', '9.2', '9.2', '9.2', '2.6', '4.7', '2.7', '7.0', '11.2', '11.2', '11.2', '9.2', '9.2', '9.2', '9.2', '4.7', '4.7', '2.7', '2.7', '11.2', '11.2', '9.0', '9.0', '9.0', '9.0', '1.4', '1.4', '1.4', '2.6', '2.6', 'D5', 'B4', 'D5', 'D5', 'D5', 'D5', 'D5', 'F#5', 'F#5', 'G5', 'G5', 'G5', 'D5', '11.2', '9.2', '9.2', '9.2', '9.2', '2.6', '4.7', '2.7', '7.0', '11.2', '11.2', '11.2', '9.2', '9.2', '9.2', '9.2', '4.7', '4.7', '2.7', '2.7', '11.2', '11.2', '9.0', '9.0', '9.0', '9.0', '1.4', '1.4', '1.4', '2.6', '2.6', 'D5', 'B4', 'G5', 'G5', 'G5', 'G5', 'G5', 'G5', 'G5', 'G5', 'G5', 'G5', 'G5', 'E5', 'B4', 'G5', '2.7', '2.7', 'G5', 'G5', 'G5', 'G5', 'G5', 'G5', 'F#5', 'G5', '2.7', '2.7', 'G5', 'G5', '2.7', 'G5', 'G5', 'G5', 'G5', 'G5', 'E5', 'E5', 'F#5', 'F#5', 'F#5', 'F#5', 'F#5', 'F#5', 'G5', 'G5', 'D5', 'B4']\n"
          ]
        }
      ]
    },
    {
      "cell_type": "code",
      "source": [
        "import pickle\n",
        "import os\n",
        "os.chdir('/content/ZavrsniRad/Data')\n",
        "with open('notes.json', 'rb') as file:\n",
        "    notes = pickle.load(file)\n",
        "print(notes)"
      ],
      "metadata": {
        "colab": {
          "base_uri": "https://localhost:8080/"
        },
        "id": "PEGtPRpPAVTp",
        "outputId": "1915edbc-c80b-40c7-afa1-0f8bd71d2b7e"
      },
      "execution_count": null,
      "outputs": [
        {
          "output_type": "stream",
          "name": "stdout",
          "text": [
            "[{'pitch': 'r', 'duration': '4.0'}, {'pitch': 'r', 'duration': '4.0'}, {'pitch': 'r', 'duration': '4.0'}, {'pitch': 'r', 'duration': '4.0'}, {'pitch': 'r', 'duration': '4.0'}, {'pitch': 'r', 'duration': '4.0'}, {'pitch': 'r', 'duration': '4.0'}, {'pitch': 'r', 'duration': '4.0'}, {'pitch': 'r', 'duration': '4.0'}, {'pitch': 'r', 'duration': '4.0'}, {'pitch': 'r', 'duration': '4.0'}, {'pitch': 'r', 'duration': '0.5'}, {'pitch': 'F#3', 'duration': '0.5'}, {'pitch': 'E3', 'duration': '0.25'}, {'pitch': 'r', 'duration': '0.75'}, {'pitch': 'D3', 'duration': '0.25'}, {'pitch': 'r', 'duration': '0.25'}, {'pitch': 'B2', 'duration': '0.5'}, {'pitch': 'r', 'duration': '0.5'}, {'pitch': 'A2', 'duration': '0.25'}, {'pitch': 'r', 'duration': '0.25'}, {'pitch': 'D2', 'duration': '1.25'}, {'pitch': 'r', 'duration': '0.25'}, {'pitch': 'D2', 'duration': '0.5'}, {'pitch': 'r', 'duration': '1.5'}, {'pitch': 'A2', 'duration': '0.25'}, {'pitch': 'r', 'duration': '0.25'}, {'pitch': 'D2', 'duration': '1.25'}, {'pitch': 'r', 'duration': '0.25'}, {'pitch': 'D2', 'duration': '0.25'}, {'pitch': 'r', 'duration': '1.25'}, {'pitch': 'A2', 'duration': '0.25'}, {'pitch': 'r', 'duration': '0.75'}, {'pitch': 'D2', 'duration': '1.25'}, {'pitch': 'r', 'duration': '0.25'}, {'pitch': 'D2', 'duration': '0.5'}, {'pitch': 'r', 'duration': '1.5'}, {'pitch': 'A2', 'duration': '0.25'}, {'pitch': 'r', 'duration': '0.25'}, {'pitch': 'D2', 'duration': '1.25'}, {'pitch': 'r', 'duration': '0.25'}, {'pitch': 'D2', 'duration': '0.5'}, {'pitch': 'r', 'duration': '1.5'}, {'pitch': 'A2', 'duration': '0.25'}, {'pitch': 'r', 'duration': '0.25'}, {'pitch': 'D2', 'duration': '1.25'}, {'pitch': 'r', 'duration': '0.25'}, {'pitch': 'D2', 'duration': '0.5'}, {'pitch': 'r', 'duration': '1.5'}, {'pitch': 'A2', 'duration': '0.25'}, {'pitch': 'r', 'duration': '0.25'}, {'pitch': 'D2', 'duration': '1.25'}, {'pitch': 'r', 'duration': '0.25'}, {'pitch': 'D2', 'duration': '0.5'}, {'pitch': 'r', 'duration': '1.5'}, {'pitch': 'A2', 'duration': '0.25'}, {'pitch': 'r', 'duration': '0.25'}, {'pitch': 'D2', 'duration': '1.25'}, {'pitch': 'r', 'duration': '0.25'}, {'pitch': 'D2', 'duration': '0.25'}, {'pitch': 'r', 'duration': '1.75'}, {'pitch': 'A2', 'duration': '0.25'}, {'pitch': 'r', 'duration': '0.25'}, {'pitch': 'D2', 'duration': '1.25'}, {'pitch': 'r', 'duration': '0.25'}, {'pitch': 'D2', 'duration': '0.25'}, {'pitch': 'r', 'duration': '1.75'}, {'pitch': 'A2', 'duration': '0.25'}, {'pitch': 'r', 'duration': '0.25'}, {'pitch': 'G2', 'duration': '2.0'}, {'pitch': 'B2', 'duration': '2.0'}, {'pitch': 'D3', 'duration': '2.0'}, {'pitch': 'G3', 'duration': '2.0'}, {'pitch': 'D2', 'duration': '1.25'}, {'pitch': 'r', 'duration': '0.25'}, {'pitch': 'D2', 'duration': '0.5'}, {'pitch': 'r', 'duration': '1.5'}, {'pitch': 'A2', 'duration': '0.25'}, {'pitch': 'r', 'duration': '0.25'}, {'pitch': 'D2', 'duration': '1.25'}, {'pitch': 'r', 'duration': '0.25'}, {'pitch': 'D2', 'duration': '0.25'}, {'pitch': 'r', 'duration': '1.75'}, {'pitch': 'A2', 'duration': '0.25'}, {'pitch': 'r', 'duration': '0.25'}, {'pitch': 'G2', 'duration': '2.0'}, {'pitch': 'B2', 'duration': '2.0'}, {'pitch': 'D3', 'duration': '2.0'}, {'pitch': 'G3', 'duration': '2.0'}, {'pitch': 'D2', 'duration': '1.25'}, {'pitch': 'r', 'duration': '0.25'}, {'pitch': 'D2', 'duration': '0.5'}, {'pitch': 'r', 'duration': '1.5'}, {'pitch': 'A2', 'duration': '0.5'}, {'pitch': 'D2', 'duration': '1.25'}, {'pitch': 'r', 'duration': '0.25'}, {'pitch': 'D2', 'duration': '0.25'}, {'pitch': 'r', 'duration': '1.75'}, {'pitch': 'A2', 'duration': '0.25'}, {'pitch': 'r', 'duration': '0.25'}, {'pitch': 'D2', 'duration': '1.25'}, {'pitch': 'r', 'duration': '0.25'}, {'pitch': 'D2', 'duration': '0.5'}, {'pitch': 'r', 'duration': '1.5'}, {'pitch': 'A2', 'duration': '0.25'}, {'pitch': 'r', 'duration': '0.25'}, {'pitch': 'D2', 'duration': '1.25'}, {'pitch': 'r', 'duration': '0.25'}, {'pitch': 'D2', 'duration': '0.25'}, {'pitch': 'r', 'duration': '1.25'}, {'pitch': 'A2', 'duration': '0.25'}, {'pitch': 'r', 'duration': '0.75'}, {'pitch': 'D2', 'duration': '1.25'}, {'pitch': 'r', 'duration': '0.25'}, {'pitch': 'D2', 'duration': '0.5'}, {'pitch': 'r', 'duration': '1.5'}, {'pitch': 'A2', 'duration': '0.25'}, {'pitch': 'r', 'duration': '0.25'}, {'pitch': 'D2', 'duration': '1.25'}, {'pitch': 'r', 'duration': '0.25'}, {'pitch': 'D2', 'duration': '0.5'}, {'pitch': 'r', 'duration': '1.5'}, {'pitch': 'A2', 'duration': '0.25'}, {'pitch': 'r', 'duration': '0.25'}, {'pitch': 'D2', 'duration': '1.25'}, {'pitch': 'r', 'duration': '0.25'}, {'pitch': 'D2', 'duration': '0.5'}, {'pitch': 'r', 'duration': '1.5'}, {'pitch': 'A2', 'duration': '0.25'}, {'pitch': 'r', 'duration': '0.25'}, {'pitch': 'D2', 'duration': '1.25'}, {'pitch': 'r', 'duration': '0.25'}, {'pitch': 'D2', 'duration': '0.5'}, {'pitch': 'r', 'duration': '1.5'}, {'pitch': 'A2', 'duration': '0.25'}, {'pitch': 'r', 'duration': '0.25'}, {'pitch': 'D2', 'duration': '1.25'}, {'pitch': 'r', 'duration': '0.25'}, {'pitch': 'D2', 'duration': '0.25'}, {'pitch': 'r', 'duration': '1.75'}, {'pitch': 'A2', 'duration': '0.25'}, {'pitch': 'r', 'duration': '0.25'}, {'pitch': 'D2', 'duration': '1.25'}, {'pitch': 'r', 'duration': '0.25'}, {'pitch': 'D2', 'duration': '0.25'}, {'pitch': 'r', 'duration': '1.75'}, {'pitch': 'A2', 'duration': '0.25'}, {'pitch': 'r', 'duration': '0.25'}, {'pitch': 'G2', 'duration': '2.0'}, {'pitch': 'B2', 'duration': '2.0'}, {'pitch': 'D3', 'duration': '2.0'}, {'pitch': 'G3', 'duration': '2.0'}, {'pitch': 'D2', 'duration': '1.25'}, {'pitch': 'r', 'duration': '0.25'}, {'pitch': 'D2', 'duration': '0.5'}, {'pitch': 'r', 'duration': '1.5'}, {'pitch': 'A2', 'duration': '0.25'}, {'pitch': 'r', 'duration': '0.25'}, {'pitch': 'D2', 'duration': '1.25'}, {'pitch': 'r', 'duration': '0.25'}, {'pitch': 'D2', 'duration': '0.25'}, {'pitch': 'r', 'duration': '1.75'}, {'pitch': 'A2', 'duration': '0.25'}, {'pitch': 'r', 'duration': '0.25'}, {'pitch': 'G2', 'duration': '2.0'}, {'pitch': 'B2', 'duration': '2.0'}, {'pitch': 'D3', 'duration': '2.0'}, {'pitch': 'G3', 'duration': '2.0'}, {'pitch': 'D2', 'duration': '1.25'}, {'pitch': 'r', 'duration': '0.25'}, {'pitch': 'D2', 'duration': '0.5'}, {'pitch': 'r', 'duration': '1.5'}, {'pitch': 'A2', 'duration': '0.5'}, {'pitch': 'D2', 'duration': '1.25'}, {'pitch': 'r', 'duration': '0.25'}, {'pitch': 'D2', 'duration': '0.25'}, {'pitch': 'r', 'duration': '1.75'}, {'pitch': 'A2', 'duration': '0.25'}, {'pitch': 'r', 'duration': '0.25'}, {'pitch': 'B1', 'duration': '3.25'}, {'pitch': 'r', 'duration': '0.25'}, {'pitch': 'B1', 'duration': '0.5'}, {'pitch': 'B-1', 'duration': '3.25'}, {'pitch': 'r', 'duration': '0.25'}, {'pitch': 'B-1', 'duration': '0.5'}, {'pitch': 'A1', 'duration': '3.25'}, {'pitch': 'r', 'duration': '0.25'}, {'pitch': 'A1', 'duration': '0.5'}, {'pitch': 'B1', 'duration': '3.75'}, {'pitch': 'r', 'duration': '0.25'}, {'pitch': 'G1', 'duration': '1.25'}, {'pitch': 'r', 'duration': '0.25'}, {'pitch': 'G1', 'duration': '1.75'}, {'pitch': 'r', 'duration': '0.25'}, {'pitch': 'G1', 'duration': '0.5'}, {'pitch': 'r', 'duration': '0.5'}, {'pitch': 'D2', 'duration': '2.75'}, {'pitch': 'r', 'duration': '0.25'}, {'pitch': 'D2', 'duration': '0.5'}, {'pitch': 'G1', 'duration': '3.25'}, {'pitch': 'r', 'duration': '0.25'}, {'pitch': 'G1', 'duration': '0.5'}, {'pitch': 'F#1', 'duration': '0.5'}, {'pitch': 'D2', 'duration': '2.75'}, {'pitch': 'r', 'duration': '0.25'}, {'pitch': 'D2', 'duration': '0.5'}, {'pitch': 'G1', 'duration': '3.25'}, {'pitch': 'r', 'duration': '0.25'}, {'pitch': 'G1', 'duration': '0.5'}, {'pitch': 'F#1', 'duration': '0.5'}, {'pitch': 'D2', 'duration': '0.75'}, {'pitch': 'r', 'duration': '0.25'}, {'pitch': 'D2', 'duration': '1.75'}, {'pitch': 'r', 'duration': '0.25'}, {'pitch': 'D2', 'duration': '0.5'}, {'pitch': 'A1', 'duration': '1.25'}, {'pitch': 'r', 'duration': '0.25'}, {'pitch': 'A1', 'duration': '2.5'}, {'pitch': 'A1', 'duration': '0.25'}, {'pitch': 'r', 'duration': '0.25'}, {'pitch': 'A1', 'duration': '0.5'}, {'pitch': 'A1', 'duration': '0.25'}, {'pitch': 'r', 'duration': '0.25'}, {'pitch': 'A1', 'duration': '0.25'}, {'pitch': 'r', 'duration': '0.25'}, {'pitch': 'A1', 'duration': '0.75'}, {'pitch': 'r', 'duration': '0.25'}, {'pitch': 'A1', 'duration': '0.75'}, {'pitch': 'r', 'duration': '0.25'}, {'pitch': 'G1', 'duration': '1.25'}, {'pitch': 'r', 'duration': '0.25'}, {'pitch': 'G1', 'duration': '1.75'}, {'pitch': 'r', 'duration': '0.25'}, {'pitch': 'G1', 'duration': '0.5'}, {'pitch': 'r', 'duration': '0.5'}, {'pitch': 'D2', 'duration': '2.75'}, {'pitch': 'r', 'duration': '0.25'}, {'pitch': 'D2', 'duration': '0.5'}, {'pitch': 'G1', 'duration': '3.25'}, {'pitch': 'r', 'duration': '0.25'}, {'pitch': 'G1', 'duration': '0.5'}, {'pitch': 'F#1', 'duration': '0.5'}, {'pitch': 'D2', 'duration': '2.75'}, {'pitch': 'r', 'duration': '0.25'}, {'pitch': 'D2', 'duration': '0.5'}, {'pitch': 'G1', 'duration': '3.25'}, {'pitch': 'r', 'duration': '0.25'}, {'pitch': 'G1', 'duration': '0.5'}, {'pitch': 'F#1', 'duration': '0.5'}, {'pitch': 'D2', 'duration': '0.75'}, {'pitch': 'r', 'duration': '0.25'}, {'pitch': 'D2', 'duration': '1.75'}, {'pitch': 'r', 'duration': '0.25'}, {'pitch': 'D2', 'duration': '0.5'}, {'pitch': 'A1', 'duration': '1.25'}, {'pitch': 'r', 'duration': '0.25'}, {'pitch': 'A1', 'duration': '2.5'}, {'pitch': 'A1', 'duration': '0.25'}, {'pitch': 'r', 'duration': '0.25'}, {'pitch': 'A1', 'duration': '0.5'}, {'pitch': 'A1', 'duration': '0.25'}, {'pitch': 'r', 'duration': '0.25'}, {'pitch': 'A1', 'duration': '0.25'}, {'pitch': 'r', 'duration': '0.25'}, {'pitch': 'A1', 'duration': '0.75'}, {'pitch': 'r', 'duration': '0.25'}, {'pitch': 'A1', 'duration': '0.75'}, {'pitch': 'r', 'duration': '0.25'}, {'pitch': 'D2', 'duration': '1.25'}, {'pitch': 'r', 'duration': '0.25'}, {'pitch': 'D2', 'duration': '0.5'}, {'pitch': 'r', 'duration': '1.5'}, {'pitch': 'A2', 'duration': '0.25'}, {'pitch': 'r', 'duration': '0.25'}, {'pitch': 'D2', 'duration': '1.25'}, {'pitch': 'r', 'duration': '0.25'}, {'pitch': 'D2', 'duration': '0.25'}, {'pitch': 'r', 'duration': '1.25'}, {'pitch': 'A2', 'duration': '0.25'}, {'pitch': 'r', 'duration': '0.75'}, {'pitch': 'D2', 'duration': '1.25'}, {'pitch': 'r', 'duration': '0.25'}, {'pitch': 'D2', 'duration': '0.5'}, {'pitch': 'r', 'duration': '1.5'}, {'pitch': 'A2', 'duration': '0.25'}, {'pitch': 'r', 'duration': '0.25'}, {'pitch': 'D2', 'duration': '1.25'}, {'pitch': 'r', 'duration': '0.25'}, {'pitch': 'D2', 'duration': '0.5'}, {'pitch': 'r', 'duration': '1.5'}, {'pitch': 'A2', 'duration': '0.25'}, {'pitch': 'r', 'duration': '0.25'}, {'pitch': 'D2', 'duration': '1.25'}, {'pitch': 'r', 'duration': '0.25'}, {'pitch': 'D2', 'duration': '0.5'}, {'pitch': 'r', 'duration': '1.5'}, {'pitch': 'A2', 'duration': '0.25'}, {'pitch': 'r', 'duration': '0.25'}, {'pitch': 'D2', 'duration': '1.25'}, {'pitch': 'r', 'duration': '0.25'}, {'pitch': 'D2', 'duration': '0.5'}, {'pitch': 'r', 'duration': '1.5'}, {'pitch': 'A2', 'duration': '0.25'}, {'pitch': 'r', 'duration': '0.25'}, {'pitch': 'D2', 'duration': '1.25'}, {'pitch': 'r', 'duration': '0.25'}, {'pitch': 'D2', 'duration': '0.25'}, {'pitch': 'r', 'duration': '1.75'}, {'pitch': 'A2', 'duration': '0.25'}, {'pitch': 'r', 'duration': '0.25'}, {'pitch': 'D2', 'duration': '1.25'}, {'pitch': 'r', 'duration': '0.25'}, {'pitch': 'D2', 'duration': '0.25'}, {'pitch': 'r', 'duration': '1.75'}, {'pitch': 'A2', 'duration': '0.25'}, {'pitch': 'r', 'duration': '0.25'}, {'pitch': 'G2', 'duration': '2.0'}, {'pitch': 'B2', 'duration': '2.0'}, {'pitch': 'D3', 'duration': '2.0'}, {'pitch': 'G3', 'duration': '2.0'}, {'pitch': 'D2', 'duration': '1.25'}, {'pitch': 'r', 'duration': '0.25'}, {'pitch': 'D2', 'duration': '0.5'}, {'pitch': 'r', 'duration': '1.5'}, {'pitch': 'A2', 'duration': '0.25'}, {'pitch': 'r', 'duration': '0.25'}, {'pitch': 'D2', 'duration': '1.25'}, {'pitch': 'r', 'duration': '0.25'}, {'pitch': 'D2', 'duration': '0.25'}, {'pitch': 'r', 'duration': '1.75'}, {'pitch': 'A2', 'duration': '0.25'}, {'pitch': 'r', 'duration': '0.25'}, {'pitch': 'G2', 'duration': '2.0'}, {'pitch': 'B2', 'duration': '2.0'}, {'pitch': 'D3', 'duration': '2.0'}, {'pitch': 'G3', 'duration': '2.0'}, {'pitch': 'D2', 'duration': '1.25'}, {'pitch': 'r', 'duration': '0.25'}, {'pitch': 'D2', 'duration': '0.5'}, {'pitch': 'r', 'duration': '1.5'}, {'pitch': 'A2', 'duration': '0.5'}, {'pitch': 'D2', 'duration': '1.25'}, {'pitch': 'r', 'duration': '0.25'}, {'pitch': 'D2', 'duration': '0.25'}, {'pitch': 'r', 'duration': '1.75'}, {'pitch': 'A2', 'duration': '0.25'}, {'pitch': 'r', 'duration': '0.25'}, {'pitch': 'D2', 'duration': '1.25'}, {'pitch': 'r', 'duration': '0.25'}, {'pitch': 'D2', 'duration': '0.5'}, {'pitch': 'r', 'duration': '1.5'}, {'pitch': 'A2', 'duration': '0.25'}, {'pitch': 'r', 'duration': '0.25'}, {'pitch': 'D2', 'duration': '1.25'}, {'pitch': 'r', 'duration': '0.25'}, {'pitch': 'D2', 'duration': '0.25'}, {'pitch': 'r', 'duration': '1.25'}, {'pitch': 'A2', 'duration': '0.25'}, {'pitch': 'r', 'duration': '0.75'}, {'pitch': 'D2', 'duration': '1.25'}, {'pitch': 'r', 'duration': '0.25'}, {'pitch': 'D2', 'duration': '0.5'}, {'pitch': 'r', 'duration': '1.5'}, {'pitch': 'A2', 'duration': '0.25'}, {'pitch': 'r', 'duration': '0.25'}, {'pitch': 'D2', 'duration': '1.25'}, {'pitch': 'r', 'duration': '0.25'}, {'pitch': 'D2', 'duration': '0.5'}, {'pitch': 'r', 'duration': '1.5'}, {'pitch': 'A2', 'duration': '0.25'}, {'pitch': 'r', 'duration': '0.25'}, {'pitch': 'D2', 'duration': '1.25'}, {'pitch': 'r', 'duration': '0.25'}, {'pitch': 'D2', 'duration': '0.5'}, {'pitch': 'r', 'duration': '1.5'}, {'pitch': 'A2', 'duration': '0.25'}, {'pitch': 'r', 'duration': '0.25'}, {'pitch': 'D2', 'duration': '1.25'}, {'pitch': 'r', 'duration': '0.25'}, {'pitch': 'D2', 'duration': '0.5'}, {'pitch': 'r', 'duration': '1.5'}, {'pitch': 'A2', 'duration': '0.25'}, {'pitch': 'r', 'duration': '0.25'}, {'pitch': 'D2', 'duration': '1.25'}, {'pitch': 'r', 'duration': '0.25'}, {'pitch': 'D2', 'duration': '0.25'}, {'pitch': 'r', 'duration': '1.75'}, {'pitch': 'A2', 'duration': '0.25'}, {'pitch': 'r', 'duration': '0.25'}, {'pitch': 'D2', 'duration': '1.25'}, {'pitch': 'r', 'duration': '0.25'}, {'pitch': 'D2', 'duration': '0.25'}, {'pitch': 'r', 'duration': '1.75'}, {'pitch': 'A2', 'duration': '0.25'}, {'pitch': 'r', 'duration': '0.25'}, {'pitch': 'G2', 'duration': '2.0'}, {'pitch': 'B2', 'duration': '2.0'}, {'pitch': 'D3', 'duration': '2.0'}, {'pitch': 'G3', 'duration': '2.0'}, {'pitch': 'D2', 'duration': '1.25'}, {'pitch': 'r', 'duration': '0.25'}, {'pitch': 'D2', 'duration': '0.5'}, {'pitch': 'r', 'duration': '1.5'}, {'pitch': 'A2', 'duration': '0.25'}, {'pitch': 'r', 'duration': '0.25'}, {'pitch': 'D2', 'duration': '1.25'}, {'pitch': 'r', 'duration': '0.25'}, {'pitch': 'D2', 'duration': '0.25'}, {'pitch': 'r', 'duration': '1.75'}, {'pitch': 'A2', 'duration': '0.25'}, {'pitch': 'r', 'duration': '0.25'}, {'pitch': 'G2', 'duration': '2.0'}, {'pitch': 'B2', 'duration': '2.0'}, {'pitch': 'D3', 'duration': '2.0'}, {'pitch': 'G3', 'duration': '2.0'}, {'pitch': 'D2', 'duration': '1.25'}, {'pitch': 'r', 'duration': '0.25'}, {'pitch': 'D2', 'duration': '0.5'}, {'pitch': 'r', 'duration': '1.5'}, {'pitch': 'A2', 'duration': '0.5'}, {'pitch': 'D2', 'duration': '1.25'}, {'pitch': 'r', 'duration': '0.25'}, {'pitch': 'D2', 'duration': '0.25'}, {'pitch': 'r', 'duration': '1.75'}, {'pitch': 'A2', 'duration': '0.25'}, {'pitch': 'r', 'duration': '0.25'}, {'pitch': 'G2', 'duration': '4.0'}, {'pitch': 'G2', 'duration': '4.0'}, {'pitch': 'G2', 'duration': '5/3'}, {'pitch': 'r', 'duration': '5/6'}, {'pitch': 'D2', 'duration': '1.5'}, {'pitch': 'D2', 'duration': '4.0'}, {'pitch': 'D2', 'duration': '4.0'}, {'pitch': 'D2', 'duration': '4.0'}, {'pitch': 'D2', 'duration': '1.25'}, {'pitch': 'r', 'duration': '2.75'}, {'pitch': 'r', 'duration': '0.25'}, {'pitch': 'r', 'duration': '4.0'}, {'pitch': 'r', 'duration': '4.0'}, {'pitch': 'C2', 'duration': '2/3'}, {'pitch': 'C2', 'duration': '1.0'}, {'pitch': 'r', 'duration': '1/3'}, {'pitch': 'A1', 'duration': '2/3'}, {'pitch': 'A1', 'duration': '1.0'}, {'pitch': 'r', 'duration': '1/3'}, {'pitch': 'F2', 'duration': '1/3'}, {'pitch': 'r', 'duration': '1/3'}, {'pitch': 'F2', 'duration': '2/3'}, {'pitch': 'r', 'duration': '1/3'}, {'pitch': 'F2', 'duration': '1/3'}, {'pitch': 'G2', 'duration': '2/3'}, {'pitch': 'G2', 'duration': '1.0'}, {'pitch': 'r', 'duration': '1/3'}, {'pitch': 'C2', 'duration': '1/3'}, {'pitch': 'r', 'duration': '1/3'}, {'pitch': 'C2', 'duration': '2/3'}, {'pitch': 'r', 'duration': '1/3'}, {'pitch': 'C2', 'duration': '1/3'}, {'pitch': 'A1', 'duration': '1/3'}, {'pitch': 'r', 'duration': '1/3'}, {'pitch': 'A1', 'duration': '2/3'}, {'pitch': 'r', 'duration': '1/3'}, {'pitch': 'A1', 'duration': '1/3'}, {'pitch': 'F2', 'duration': '2/3'}, {'pitch': 'F2', 'duration': '1.0'}, {'pitch': 'r', 'duration': '1/3'}, {'pitch': 'G2', 'duration': '2/3'}, {'pitch': 'G2', 'duration': '1.0'}, {'pitch': 'r', 'duration': '1/3'}, {'pitch': 'F2', 'duration': '1/3'}, {'pitch': 'r', 'duration': '1/3'}, {'pitch': 'F2', 'duration': '2/3'}, {'pitch': 'r', 'duration': '1/3'}, {'pitch': 'F2', 'duration': '1/3'}, {'pitch': 'D2', 'duration': '1/3'}, {'pitch': 'r', 'duration': '1/3'}, {'pitch': 'D2', 'duration': '2/3'}, {'pitch': 'r', 'duration': '1/3'}, {'pitch': 'D2', 'duration': '1/3'}, {'pitch': 'C2', 'duration': '1/3'}, {'pitch': 'r', 'duration': '1/3'}, {'pitch': 'C2', 'duration': '2/3'}, {'pitch': 'r', 'duration': '1/3'}, {'pitch': 'C2', 'duration': '1/3'}, {'pitch': 'A1', 'duration': '1/3'}, {'pitch': 'r', 'duration': '1/3'}, {'pitch': 'A1', 'duration': '2/3'}, {'pitch': 'r', 'duration': '1/3'}, {'pitch': 'A1', 'duration': '1/3'}, {'pitch': 'F2', 'duration': '1/3'}, {'pitch': 'r', 'duration': '1/3'}, {'pitch': 'F2', 'duration': '2/3'}, {'pitch': 'r', 'duration': '1/3'}, {'pitch': 'F2', 'duration': '1/3'}, {'pitch': 'G2', 'duration': '2/3'}, {'pitch': 'G2', 'duration': '1.0'}, {'pitch': 'r', 'duration': '1/3'}, {'pitch': 'C2', 'duration': '1/3'}, {'pitch': 'r', 'duration': '1/3'}, {'pitch': 'C2', 'duration': '2/3'}, {'pitch': 'r', 'duration': '1/3'}, {'pitch': 'C2', 'duration': '1/3'}, {'pitch': 'G2', 'duration': '2/3'}, {'pitch': 'G2', 'duration': '1.0'}, {'pitch': 'r', 'duration': '1/3'}, {'pitch': 'C2', 'duration': '1/3'}, {'pitch': 'r', 'duration': '1/3'}, {'pitch': 'C2', 'duration': '2/3'}, {'pitch': 'r', 'duration': '1/3'}, {'pitch': 'C2', 'duration': '1/3'}, {'pitch': 'A1', 'duration': '2/3'}, {'pitch': 'A1', 'duration': '1.0'}, {'pitch': 'r', 'duration': '1/3'}, {'pitch': 'F2', 'duration': '2/3'}, {'pitch': 'F2', 'duration': '1.0'}, {'pitch': 'r', 'duration': '1/3'}, {'pitch': 'G2', 'duration': '2/3'}, {'pitch': 'G2', 'duration': '1.0'}, {'pitch': 'r', 'duration': '1/3'}, {'pitch': 'C2', 'duration': '2/3'}, {'pitch': 'C2', 'duration': '1.0'}, {'pitch': 'r', 'duration': '1/3'}, {'pitch': 'A1', 'duration': '2/3'}, {'pitch': 'A1', 'duration': '1.0'}, {'pitch': 'r', 'duration': '1/3'}, {'pitch': 'F2', 'duration': '2/3'}, {'pitch': 'F2', 'duration': '1.0'}, {'pitch': 'r', 'duration': '1/3'}, {'pitch': 'G2', 'duration': '2/3'}, {'pitch': 'G2', 'duration': '1.0'}, {'pitch': 'r', 'duration': '1/3'}, {'pitch': 'F2', 'duration': '2/3'}, {'pitch': 'F2', 'duration': '1.0'}, {'pitch': 'r', 'duration': '1/3'}, {'pitch': 'D2', 'duration': '2/3'}, {'pitch': 'D2', 'duration': '1.0'}, {'pitch': 'r', 'duration': '1/3'}, {'pitch': 'C2', 'duration': '2/3'}, {'pitch': 'C2', 'duration': '1.0'}, {'pitch': 'r', 'duration': '1/3'}, {'pitch': 'A1', 'duration': '1/3'}, {'pitch': 'r', 'duration': '1/3'}, {'pitch': 'A1', 'duration': '2/3'}, {'pitch': 'r', 'duration': '1/3'}, {'pitch': 'A1', 'duration': '1/3'}, {'pitch': 'F2', 'duration': '1/3'}, {'pitch': 'r', 'duration': '1/3'}, {'pitch': 'F2', 'duration': '2/3'}, {'pitch': 'r', 'duration': '1/3'}, {'pitch': 'F2', 'duration': '1/3'}, {'pitch': 'G2', 'duration': '1/3'}, {'pitch': 'r', 'duration': '1/3'}, {'pitch': 'G2', 'duration': '2/3'}, {'pitch': 'r', 'duration': '1/3'}, {'pitch': 'G2', 'duration': '1/3'}, {'pitch': 'C2', 'duration': '0.25'}, {'pitch': 'r', 'duration': '5/12'}, {'pitch': 'C2', 'duration': '2/3'}, {'pitch': 'G1', 'duration': '1/3'}, {'pitch': 'A1', 'duration': '0.25'}, {'pitch': 'r', 'duration': '1/12'}, {'pitch': 'C2', 'duration': '1/3'}, {'pitch': 'r', 'duration': '1/3'}, {'pitch': 'C2', 'duration': '0.5'}, {'pitch': 'r', 'duration': '1/3'}, {'pitch': 'C3', 'duration': '1/3'}, {'pitch': 'G2', 'duration': '0.25'}, {'pitch': '0.2', 'duration': '0.25'}, {'pitch': 'r', 'duration': '5/12'}, {'pitch': 'C2', 'duration': '1/3'}, {'pitch': 'r', 'duration': '2/3'}, {'pitch': 'C2', 'duration': '2.25'}, {'pitch': 'r', 'duration': '1/12'}, {'pitch': 'r', 'duration': '4.0'}, {'pitch': 'r', 'duration': '4.0'}, {'pitch': 'r', 'duration': '4.0'}, {'pitch': 'r', 'duration': '4.0'}, {'pitch': 'r', 'duration': '4.0'}, {'pitch': 'r', 'duration': '4.0'}, {'pitch': 'r', 'duration': '4.0'}, {'pitch': 'r', 'duration': '4.0'}, {'pitch': 'r', 'duration': '4.0'}, {'pitch': 'r', 'duration': '4.0'}, {'pitch': 'r', 'duration': '4.0'}, {'pitch': 'r', 'duration': '4.0'}, {'pitch': 'r', 'duration': '4.0'}, {'pitch': 'r', 'duration': '4.0'}, {'pitch': 'r', 'duration': '4.0'}, {'pitch': 'r', 'duration': '4.0'}, {'pitch': 'r', 'duration': '4.0'}, {'pitch': 'r', 'duration': '4.0'}, {'pitch': 'r', 'duration': '4.0'}, {'pitch': 'r', 'duration': '4.0'}, {'pitch': 'r', 'duration': '4.0'}, {'pitch': 'r', 'duration': '2.5'}, {'pitch': 'D5', 'duration': '0.5'}, {'pitch': 'D5', 'duration': '1.0'}, {'pitch': 'D5', 'duration': '1.0'}, {'pitch': 'D5', 'duration': '2.0'}, {'pitch': 'D5', 'duration': '1.0'}, {'pitch': 'F#5', 'duration': '1.0'}, {'pitch': 'F#5', 'duration': '1.0'}, {'pitch': 'G5', 'duration': '1.0'}, {'pitch': 'G5', 'duration': '1.0'}, {'pitch': 'G5', 'duration': '1.0'}, {'pitch': 'D5', 'duration': '3.0'}, {'pitch': 'r', 'duration': '2.5'}, {'pitch': '11.2', 'duration': '1.5'}, {'pitch': '9.2', 'duration': '1.0'}, {'pitch': '9.2', 'duration': '0.5'}, {'pitch': '9.2', 'duration': '1.0'}, {'pitch': '9.2', 'duration': '1.5'}, {'pitch': '2.6', 'duration': '1.0'}, {'pitch': '4.7', 'duration': '1.5'}, {'pitch': '2.7', 'duration': '0.5'}, {'pitch': '7.0', 'duration': '0.5'}, {'pitch': '11.2', 'duration': '0.5'}, {'pitch': '11.2', 'duration': '2.0'}, {'pitch': 'r', 'duration': '2.0'}, {'pitch': 'r', 'duration': '3.5'}, {'pitch': '11.2', 'duration': '0.5'}, {'pitch': '9.2', 'duration': '1.0'}, {'pitch': '9.2', 'duration': '1.0'}, {'pitch': '9.2', 'duration': '1.0'}, {'pitch': '9.2', 'duration': '1.0'}, {'pitch': '4.7', 'duration': '2.0'}, {'pitch': '4.7', 'duration': '1.0'}, {'pitch': '2.7', 'duration': '1.0'}, {'pitch': '2.7', 'duration': '1.0'}, {'pitch': '11.2', 'duration': '3.0'}, {'pitch': 'r', 'duration': '3.5'}, {'pitch': '11.2', 'duration': '0.5'}, {'pitch': '9.0', 'duration': '1.0'}, {'pitch': '9.0', 'duration': '1.0'}, {'pitch': '9.0', 'duration': '1.0'}, {'pitch': '9.0', 'duration': '0.5'}, {'pitch': '1.4', 'duration': '0.5'}, {'pitch': '1.4', 'duration': '2.0'}, {'pitch': 'r', 'duration': '0.5'}, {'pitch': '1.4', 'duration': '1.0'}, {'pitch': '2.6', 'duration': '0.5'}, {'pitch': '2.6', 'duration': '4.0'}, {'pitch': 'r', 'duration': '2.5'}, {'pitch': 'D5', 'duration': '1.0'}, {'pitch': 'B4', 'duration': '0.5'}, {'pitch': 'r', 'duration': '4.0'}, {'pitch': 'r', 'duration': '4.0'}, {'pitch': 'r', 'duration': '4.0'}, {'pitch': 'r', 'duration': '4.0'}, {'pitch': 'r', 'duration': '4.0'}, {'pitch': 'r', 'duration': '4.0'}, {'pitch': 'r', 'duration': '4.0'}, {'pitch': 'r', 'duration': '4.0'}, {'pitch': 'r', 'duration': '4.0'}, {'pitch': 'r', 'duration': '4.0'}, {'pitch': 'r', 'duration': '4.0'}, {'pitch': 'r', 'duration': '4.0'}, {'pitch': 'r', 'duration': '4.0'}, {'pitch': 'r', 'duration': '4.0'}, {'pitch': 'r', 'duration': '4.0'}, {'pitch': 'r', 'duration': '4.0'}, {'pitch': 'r', 'duration': '4.0'}, {'pitch': 'r', 'duration': '4.0'}, {'pitch': 'r', 'duration': '4.0'}, {'pitch': 'r', 'duration': '4.0'}, {'pitch': 'r', 'duration': '4.0'}, {'pitch': 'r', 'duration': '4.0'}, {'pitch': 'r', 'duration': '4.0'}, {'pitch': 'r', 'duration': '4.0'}, {'pitch': 'r', 'duration': '4.0'}, {'pitch': 'r', 'duration': '4.0'}, {'pitch': 'r', 'duration': '4.0'}, {'pitch': 'r', 'duration': '4.0'}, {'pitch': 'r', 'duration': '4.0'}, {'pitch': 'r', 'duration': '4.0'}, {'pitch': 'r', 'duration': '4.0'}, {'pitch': 'r', 'duration': '4.0'}, {'pitch': 'r', 'duration': '4.0'}, {'pitch': 'r', 'duration': '4.0'}, {'pitch': 'r', 'duration': '4.0'}, {'pitch': 'r', 'duration': '4.0'}, {'pitch': 'r', 'duration': '4.0'}, {'pitch': 'r', 'duration': '4.0'}, {'pitch': 'r', 'duration': '4.0'}, {'pitch': 'r', 'duration': '2.5'}, {'pitch': 'D5', 'duration': '0.5'}, {'pitch': 'D5', 'duration': '1.0'}, {'pitch': 'D5', 'duration': '1.0'}, {'pitch': 'D5', 'duration': '2.0'}, {'pitch': 'D5', 'duration': '1.0'}, {'pitch': 'F#5', 'duration': '1.0'}, {'pitch': 'F#5', 'duration': '1.0'}, {'pitch': 'G5', 'duration': '1.0'}, {'pitch': 'G5', 'duration': '1.0'}, {'pitch': 'G5', 'duration': '1.0'}, {'pitch': 'D5', 'duration': '3.0'}, {'pitch': 'r', 'duration': '2.5'}, {'pitch': '11.2', 'duration': '1.5'}, {'pitch': '9.2', 'duration': '1.0'}, {'pitch': '9.2', 'duration': '0.5'}, {'pitch': '9.2', 'duration': '1.0'}, {'pitch': '9.2', 'duration': '1.5'}, {'pitch': '2.6', 'duration': '1.0'}, {'pitch': '4.7', 'duration': '1.5'}, {'pitch': '2.7', 'duration': '0.5'}, {'pitch': '7.0', 'duration': '0.5'}, {'pitch': '11.2', 'duration': '0.5'}, {'pitch': '11.2', 'duration': '2.0'}, {'pitch': 'r', 'duration': '2.0'}, {'pitch': 'r', 'duration': '3.5'}, {'pitch': '11.2', 'duration': '0.5'}, {'pitch': '9.2', 'duration': '1.0'}, {'pitch': '9.2', 'duration': '1.0'}, {'pitch': '9.2', 'duration': '1.0'}, {'pitch': '9.2', 'duration': '1.0'}, {'pitch': '4.7', 'duration': '2.0'}, {'pitch': '4.7', 'duration': '1.0'}, {'pitch': '2.7', 'duration': '1.0'}, {'pitch': '2.7', 'duration': '1.0'}, {'pitch': '11.2', 'duration': '3.0'}, {'pitch': 'r', 'duration': '3.5'}, {'pitch': '11.2', 'duration': '0.5'}, {'pitch': '9.0', 'duration': '1.0'}, {'pitch': '9.0', 'duration': '1.0'}, {'pitch': '9.0', 'duration': '1.0'}, {'pitch': '9.0', 'duration': '0.5'}, {'pitch': '1.4', 'duration': '0.5'}, {'pitch': '1.4', 'duration': '2.0'}, {'pitch': 'r', 'duration': '0.5'}, {'pitch': '1.4', 'duration': '1.0'}, {'pitch': '2.6', 'duration': '0.5'}, {'pitch': '2.6', 'duration': '4.0'}, {'pitch': 'r', 'duration': '2.5'}, {'pitch': 'D5', 'duration': '1.0'}, {'pitch': 'B4', 'duration': '0.5'}, {'pitch': 'G5', 'duration': '1.0'}, {'pitch': 'G5', 'duration': '1.0'}, {'pitch': 'G5', 'duration': '1.0'}, {'pitch': 'G5', 'duration': '1.0'}, {'pitch': 'G5', 'duration': '1.0'}, {'pitch': 'G5', 'duration': '1.0'}, {'pitch': 'G5', 'duration': '1.0'}, {'pitch': 'G5', 'duration': '0.5'}, {'pitch': 'G5', 'duration': '0.5'}, {'pitch': 'G5', 'duration': '0.5'}, {'pitch': 'G5', 'duration': '0.5'}, {'pitch': 'E5', 'duration': '3.0'}, {'pitch': 'r', 'duration': '3.5'}, {'pitch': 'B4', 'duration': '0.5'}, {'pitch': 'G5', 'duration': '0.5'}, {'pitch': '2.7', 'duration': '1.0'}, {'pitch': '2.7', 'duration': '1.5'}, {'pitch': 'G5', 'duration': '0.5'}, {'pitch': 'G5', 'duration': '0.5'}, {'pitch': 'G5', 'duration': '1.0'}, {'pitch': 'G5', 'duration': '1.0'}, {'pitch': 'G5', 'duration': '1.0'}, {'pitch': 'G5', 'duration': '1.0'}, {'pitch': 'F#5', 'duration': '3.0'}, {'pitch': 'r', 'duration': '1.0'}, {'pitch': 'r', 'duration': '4.0'}, {'pitch': 'G5', 'duration': '0.5'}, {'pitch': '2.7', 'duration': '1.0'}, {'pitch': '2.7', 'duration': '1.5'}, {'pitch': 'r', 'duration': '0.5'}, {'pitch': 'G5', 'duration': '0.5'}, {'pitch': 'G5', 'duration': '0.5'}, {'pitch': '2.7', 'duration': '1.5'}, {'pitch': 'G5', 'duration': '1.0'}, {'pitch': 'G5', 'duration': '0.5'}, {'pitch': 'G5', 'duration': '0.5'}, {'pitch': 'G5', 'duration': '0.5'}, {'pitch': 'G5', 'duration': '0.5'}, {'pitch': 'E5', 'duration': '3.0'}, {'pitch': 'r', 'duration': '3.5'}, {'pitch': 'E5', 'duration': '0.5'}, {'pitch': 'F#5', 'duration': '0.5'}, {'pitch': 'F#5', 'duration': '0.5'}, {'pitch': 'F#5', 'duration': '0.5'}, {'pitch': 'F#5', 'duration': '0.5'}, {'pitch': 'F#5', 'duration': '1.0'}, {'pitch': 'F#5', 'duration': '1.0'}, {'pitch': 'r', 'duration': '0.5'}, {'pitch': 'G5', 'duration': '1.0'}, {'pitch': 'G5', 'duration': '2.0'}, {'pitch': 'D5', 'duration': '0.5'}, {'pitch': 'B4', 'duration': '3.0'}, {'pitch': 'r', 'duration': '1.0'}, {'pitch': 'r', 'duration': '1.0'}]\n"
          ]
        }
      ]
    },
    {
      "cell_type": "markdown",
      "source": [
        "**GET_NOTES:**\n",
        "\n",
        "---\n",
        "\n",
        "\n",
        "\n",
        "\n",
        "\n",
        "1.   Prolazi petljom kroz sve pjesme u datasetu\n",
        "2.   Svaku pjesmu konvertuje u Stream object\n",
        "3.   instrument.partitionByInstrument(midi) vraca Score objekat koji je ustvari lista Part objekata. Svaki Part objekat je za odredjeni instrument, recimo za prvu pjesmu ovako izgleda lista:\n",
        "\n",
        "* <music21.stream.Part Electric Organ>\n",
        "* <music21.stream.Part electric piano>\n",
        "* <music21.stream.Part Electric Piano>\n",
        "* <music21.stream.Part acoustic piano>\n",
        "* <music21.stream.Part Piano>\n",
        "* <music21.stream.Part lead guitar>\n",
        "* <music21.stream.Part Electric Guitar>\n",
        "* <music21.stream.Part acoustic guitar>\n",
        "* <music21.stream.Part Acoustic Guitar>\n",
        "* <music21.stream.Part bass>\n",
        "* <music21.stream.Part Acoustic Bass>\n",
        "* <music21.stream.Part 0x7f5c9676e0b0>\n",
        "---\n",
        "Svaka pjesma u ovom datasetu ima drugacije instrumente i raspored\n",
        "\n",
        "\n",
        "4. Ukoliko pjesma ima vise instrumenata pristupamo instrumentu 2 i koristeci recurse() dobijamo sve elemente tog Part-a, sto ukljucuje note, chords, rests...\n",
        "5. Ukoliko pjesma ima jedan Part onda koristimo flat da dobijemo jedam stream, umjesto da imamo Score pa unutar njega Part, zatim note filtrira to i ostaju samo note\n",
        "6. Prolazimo kroz cijelu listu notes_to_parse i dodajemo pitch note u niz notes\n",
        "7. Zapisuju se note i akordi u file notes, odnosno njihov pitch\n",
        "8. Ovako izgleda notes:\n",
        "['G4', 'G4', 'F5', 'D5', 'F5', 'D5', 'E5', 'C5', 'E5', 'C5', 'D5', 'B4', 'C3', 'D3', 'F3', 'D2', 'C3', 'F3', 'C3', 'D2', 'D3', 'F3', 'C3', 'D3', 'F3', 'D2', 'C3', 'F3', 'C3', 'D2', 'D3', 'F3', 'G4', 'D4', 'B3', 'G3', 'G4', 'D2', 'G3', 'G4', 'D3', 'G4', 'D2', 'G3', 'A4', 'F#4'...\n",
        "\n",
        "\n",
        "\n",
        "\n",
        "\n",
        "\n",
        "\n",
        "\n",
        "\n"
      ],
      "metadata": {
        "id": "DPa8cypfZuSu"
      }
    },
    {
      "cell_type": "markdown",
      "source": [
        "**PREPARE_SEQUENCE:**\n",
        "\n",
        "---\n",
        "\n",
        "  Argumenti su: notes-lista nota koju vraca getNotes() i n_vocab-broj jedinstvenih nota u toj listi\n",
        "\n",
        "\n",
        "\n",
        "\n",
        "---\n",
        "\n",
        "\n",
        "\n",
        "1.   u pitchnames se izdvoje svi pitchevi koji postoje u fajlu notes i sortiraju abecedno\n",
        "3.   note_to_int je dictionary u kojem su parovi naziv note i njen redni broj u nizu pitchnames\n",
        "4. Prolazimo petljom kroz sve note u fajlu notes\n",
        "5. sequence_in je lista nota duzine 50\n",
        "6. sequence_out je element nakon niza  sequence_in u fajlu\n",
        "7. network_input je matrica ciji su elementi nizovi od 50 elemenata.U ovoj petlji, njoj dodajemo sequence_in nakon sto se konvertuju stringovi u odgovarajuce brojeve iz dictionary-a\n",
        "8. network_output je niz koji ima elemenata onliko koliko i network_input, samo je on jednodimenzionalan. Njegovi elementi predstavljaju sljedece note nakon elementa niza network_input odgovarajuceg indeksa\n",
        "9. network_input treba biti 3D niz zbog LSTM mreze, pa to radimo pomocu np.reshape.\n",
        "10. One-hot enkodiranje network_output-a, network_output ce sad biti matrica ciji su elementi nizovi od n_vocab clanova(ukupan broj svih nota prisutnih u datasetu) i brojevi ce biti prikazani tako sto ce element koji ima indeks koji je jednak tom broju biti 1, a sve ostalo 0\n",
        "\n"
      ],
      "metadata": {
        "id": "XWlUy_kUZ6GS"
      }
    },
    {
      "cell_type": "markdown",
      "source": [
        "**GENERATE_NOTES**\n",
        "\n",
        "---\n",
        "\n",
        "\n",
        "1.   Bira se neki random broj u rasponu od 0 do velicine network_inputa\n",
        "2.   Varijabli pattern dodijelimo niz koji ima indeks prethodno izabranog broja u network_inputu\n",
        "3. Sada se u petlji generise 500 nota na sljedeci nacin:\n",
        "\n",
        "\n",
        "*   prediction_input se prilagodi ulaznom sloju\n",
        "*   koristeci model.predict dobijemo numpy niz u kojem se nalaze vjerovatnoce za svaku notu i ima velicinu n_vocab\n",
        "*   varijabli index dodijelimo clan niza koji ima najvecu vjerovatnocu\n",
        "*  iz dictionary-a int_to_note nadjemo notu koja odgovara indexu\n",
        "* tu notu dodamo nizu pattern koji sluzi kao input za model i uklonimo prvi clan niza kako ni sekvenca i dalje imala duzinu 50\n",
        "* sve ide ispocetka\n",
        "\n",
        "\n",
        "\n",
        "\n"
      ],
      "metadata": {
        "id": "8h4EROz4tP9M"
      }
    }
  ]
}